{
 "cells": [
  {
   "cell_type": "code",
   "execution_count": null,
   "id": "495c6251-6b0a-4639-a995-036a28c073f2",
   "metadata": {},
   "outputs": [],
   "source": [
    "# !pip install transformers\n",
    "# !pip install torch torchvision torchaudio --index-url https://download.pytorch.org/whl/cpu\n",
    "# !pip install sentence-transformers\n",
    "# !pip install datasets"
   ]
  },
  {
   "cell_type": "code",
   "execution_count": 1,
   "id": "fbbce647-f1d8-4d34-ad49-2eb8239987a1",
   "metadata": {},
   "outputs": [
    {
     "name": "stderr",
     "output_type": "stream",
     "text": [
      "/Users/gke/py312env/lib/python3.12/site-packages/tqdm/auto.py:21: TqdmWarning: IProgress not found. Please update jupyter and ipywidgets. See https://ipywidgets.readthedocs.io/en/stable/user_install.html\n",
      "  from .autonotebook import tqdm as notebook_tqdm\n",
      "2024-06-25 22:56:36,853 : INFO : PyTorch version 2.3.1 available.\n"
     ]
    }
   ],
   "source": [
    "import numpy as np\n",
    "import pandas as pd\n",
    "import ast\n",
    "import warnings\n",
    "import scipy\n",
    "import matplotlib.pyplot as plt\n",
    "import spacy\n",
    "import difflib\n",
    "import tqdm\n",
    "import json\n",
    "import pickle\n",
    "import logging\n",
    "import itertools\n",
    "logging.basicConfig(format='%(asctime)s : %(levelname)s : %(message)s', level=logging.INFO)\n",
    "\n",
    "from datasets import Dataset\n",
    "from sentence_transformers import SentenceTransformer\n",
    "from sklearn.metrics.pairwise import cosine_similarity\n",
    "from collections import Counter"
   ]
  },
  {
   "cell_type": "code",
   "execution_count": 12,
   "id": "48e3ce9b-2397-41f3-a7ec-94f658d7df90",
   "metadata": {},
   "outputs": [
    {
     "name": "stderr",
     "output_type": "stream",
     "text": [
      "2024-06-26 15:40:13,459 : INFO : Use pytorch device_name: mps\n",
      "2024-06-26 15:40:13,460 : INFO : Load pretrained SentenceTransformer: sentence-transformers/all-MiniLM-L6-v2\n",
      "/Users/gke/py312env/lib/python3.12/site-packages/huggingface_hub/file_download.py:1132: FutureWarning: `resume_download` is deprecated and will be removed in version 1.0.0. Downloads always resume when possible. If you want to force a new download, use `force_download=True`.\n",
      "  warnings.warn(\n"
     ]
    },
    {
     "data": {
      "text/html": [
       "<div>\n",
       "<style scoped>\n",
       "    .dataframe tbody tr th:only-of-type {\n",
       "        vertical-align: middle;\n",
       "    }\n",
       "\n",
       "    .dataframe tbody tr th {\n",
       "        vertical-align: top;\n",
       "    }\n",
       "\n",
       "    .dataframe thead th {\n",
       "        text-align: right;\n",
       "    }\n",
       "</style>\n",
       "<table border=\"1\" class=\"dataframe\">\n",
       "  <thead>\n",
       "    <tr style=\"text-align: right;\">\n",
       "      <th></th>\n",
       "      <th>id</th>\n",
       "      <th>prompt</th>\n",
       "      <th>model_a_answer</th>\n",
       "      <th>model_b_answer</th>\n",
       "      <th>winner</th>\n",
       "    </tr>\n",
       "  </thead>\n",
       "  <tbody>\n",
       "    <tr>\n",
       "      <th>0</th>\n",
       "      <td>30192</td>\n",
       "      <td>Is it morally right to try to have a certain p...</td>\n",
       "      <td>The question of whether it is morally right to...</td>\n",
       "      <td>As an AI, I don't have personal beliefs or opi...</td>\n",
       "      <td>A</td>\n",
       "    </tr>\n",
       "    <tr>\n",
       "      <th>1</th>\n",
       "      <td>53567</td>\n",
       "      <td>What is the difference between marriage licens...</td>\n",
       "      <td>A marriage license is a legal document that al...</td>\n",
       "      <td>A marriage license and a marriage certificate ...</td>\n",
       "      <td>B</td>\n",
       "    </tr>\n",
       "    <tr>\n",
       "      <th>2</th>\n",
       "      <td>53567</td>\n",
       "      <td>How can I get both of them as quick as possibl...</td>\n",
       "      <td>If you want to get both a marriage license and...</td>\n",
       "      <td>In California, here are the general steps to o...</td>\n",
       "      <td>B</td>\n",
       "    </tr>\n",
       "  </tbody>\n",
       "</table>\n",
       "</div>"
      ],
      "text/plain": [
       "      id                                             prompt  \\\n",
       "0  30192  Is it morally right to try to have a certain p...   \n",
       "1  53567  What is the difference between marriage licens...   \n",
       "2  53567  How can I get both of them as quick as possibl...   \n",
       "\n",
       "                                      model_a_answer  \\\n",
       "0  The question of whether it is morally right to...   \n",
       "1  A marriage license is a legal document that al...   \n",
       "2  If you want to get both a marriage license and...   \n",
       "\n",
       "                                      model_b_answer winner  \n",
       "0  As an AI, I don't have personal beliefs or opi...      A  \n",
       "1  A marriage license and a marriage certificate ...      B  \n",
       "2  In California, here are the general steps to o...      B  "
      ]
     },
     "execution_count": 12,
     "metadata": {},
     "output_type": "execute_result"
    }
   ],
   "source": [
    "model = SentenceTransformer(\"sentence-transformers/all-MiniLM-L6-v2\")\n",
    "tokenizer = model.tokenizer\n",
    "\n",
    "dfn = pd.read_csv('lmsys-chatbot-arena/aux_files/dfn.csv')\n",
    "\n",
    "dfn.head(3)"
   ]
  },
  {
   "cell_type": "code",
   "execution_count": 35,
   "id": "697091f7-aaa4-4f5f-aee3-369f06058756",
   "metadata": {},
   "outputs": [
    {
     "data": {
      "text/plain": [
       "659"
      ]
     },
     "execution_count": 35,
     "metadata": {},
     "output_type": "execute_result"
    }
   ],
   "source": [
    "len(tokenizer(dfn.iloc[5]['model_a_answer']).encodings[0].tokens)"
   ]
  },
  {
   "cell_type": "code",
   "execution_count": 19,
   "id": "b4965da7-b2ee-4b06-abf1-0751ff8bb17d",
   "metadata": {},
   "outputs": [],
   "source": [
    "unique_ids = dfn.id.unique()\n",
    "tagger = spacy.load(\"en_core_web_lg\")"
   ]
  },
  {
   "cell_type": "code",
   "execution_count": 56,
   "id": "bad2b5d1-4402-448b-95ba-587bbf64335d",
   "metadata": {},
   "outputs": [
    {
     "name": "stdout",
     "output_type": "stream",
     "text": [
      "PRON nsubj I True\n",
      "AUX aux am True\n",
      "VERB ROOT testing False\n",
      "PUNCT punct . False\n",
      "ADV advmod Just True\n",
      "PART aux to True\n",
      "VERB ROOT see True\n",
      "PROPN dobj NYC False\n"
     ]
    }
   ],
   "source": [
    "doc = tagger(\"I am testing. Just to see NYC\")\n",
    "for token in doc:\n",
    "    print(token.pos_ , token.dep_ , token.text, token.is_stop)"
   ]
  },
  {
   "cell_type": "code",
   "execution_count": 50,
   "id": "30c9d7fe-eb6d-4b6b-bd82-0c6ca1388665",
   "metadata": {},
   "outputs": [],
   "source": [
    "def reduce_text(txt, tagger , limit , target_tags = [\"PROPN\" , \"NOUN\" , \"VERB\" , \"ADP\" , \"PRON\" , \"AUX\" , \"ADJ\"]):\n",
    "    reconstructed_str = \"\"\n",
    "    doc = tagger(txt)\n",
    "    for token in txt:\n",
    "        if token.pos_ == \"PROPN\" or token.pos_:\n",
    "            if len(reconstructed_str):\n",
    "                reconstructed_str = token.text\n",
    "            else:\n",
    "                reconstructed_str += \" \" + token.text\n",
    "        if token."
   ]
  },
  {
   "cell_type": "code",
   "execution_count": 37,
   "id": "8569ffb4-f0f4-4328-9c59-bed9c25fa53f",
   "metadata": {},
   "outputs": [
    {
     "data": {
      "text/plain": [
       "256"
      ]
     },
     "execution_count": 37,
     "metadata": {},
     "output_type": "execute_result"
    }
   ],
   "source": [
    "model.max_seq_length"
   ]
  },
  {
   "cell_type": "code",
   "execution_count": 41,
   "id": "d53aff84-c2a7-43d5-ad44-c03c6aee0d23",
   "metadata": {},
   "outputs": [
    {
     "name": "stderr",
     "output_type": "stream",
     "text": [
      "  0%|                                                 | 0/56759 [00:00<?, ?it/s]\n"
     ]
    }
   ],
   "source": [
    "# filter out by tag, check first if string can fit in tokenizer\n",
    "seq_overhead = 3\n",
    "max_seq = model.max_seq_length - seq_overhead\n",
    "id_list = []\n",
    "anchors = []\n",
    "positives = []\n",
    "for _id in tqdm.tqdm(unique_ids):\n",
    "    id_df = dfn[dfn.id == _id]\n",
    "    for row in id_df.iterrows():\n",
    "        id_list.append(_id)\n",
    "        \n",
    "        prompt = row[1]['prompt']\n",
    "        model_a_answer = row[1]['model_a_answer']\n",
    "        model_b_answer = row[1]['model_b_answer']\n",
    "        winner = row[1]['winner']\n",
    "\n",
    "        prompt_len = len(tokenizer(prompt).encodings[0].tokens)\n",
    "        model_a_answer_len = len(tokenizer(model_a_answer).encodings[0].tokens)\n",
    "        model_b_answer_len = len(tokenizer(model_b_answer).encodings[0].tokens)\n",
    "\n",
    "        if winner == \"A\":\n",
    "            if model_a_answer_len > max_seq:\n",
    "                \n",
    "                for token in doc:\n",
    "            pass\n",
    "        if winner == \"B\":\n",
    "            pass\n",
    "        if winner == \"N\":\n",
    "            pass\n",
    "    \n",
    "    break"
   ]
  },
  {
   "cell_type": "code",
   "execution_count": null,
   "id": "b87b3a30-5b9b-461a-8478-26a17556af03",
   "metadata": {},
   "outputs": [],
   "source": []
  }
 ],
 "metadata": {
  "kernelspec": {
   "display_name": "Python 3 (ipykernel)",
   "language": "python",
   "name": "python3"
  },
  "language_info": {
   "codemirror_mode": {
    "name": "ipython",
    "version": 3
   },
   "file_extension": ".py",
   "mimetype": "text/x-python",
   "name": "python",
   "nbconvert_exporter": "python",
   "pygments_lexer": "ipython3",
   "version": "3.12.3"
  }
 },
 "nbformat": 4,
 "nbformat_minor": 5
}
