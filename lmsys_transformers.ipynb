{
 "cells": [
  {
   "cell_type": "code",
   "execution_count": 1,
   "id": "495c6251-6b0a-4639-a995-036a28c073f2",
   "metadata": {},
   "outputs": [],
   "source": [
    "# !pip install transformers\n",
    "# !pip install torch torchvision torchaudio --index-url https://download.pytorch.org/whl/cpu\n",
    "# !pip install sentence-transformers\n",
    "# !pip install datasets"
   ]
  },
  {
   "cell_type": "code",
   "execution_count": 2,
   "id": "fbbce647-f1d8-4d34-ad49-2eb8239987a1",
   "metadata": {},
   "outputs": [
    {
     "name": "stderr",
     "output_type": "stream",
     "text": [
      "/Users/gke/py312env/lib/python3.12/site-packages/tqdm/auto.py:21: TqdmWarning: IProgress not found. Please update jupyter and ipywidgets. See https://ipywidgets.readthedocs.io/en/stable/user_install.html\n",
      "  from .autonotebook import tqdm as notebook_tqdm\n",
      "2024-06-20 17:57:58,941 : INFO : PyTorch version 2.3.1 available.\n"
     ]
    }
   ],
   "source": [
    "import numpy as np\n",
    "import pandas as pd\n",
    "import ast\n",
    "import warnings\n",
    "import scipy\n",
    "import matplotlib.pyplot as plt\n",
    "import spacy\n",
    "import difflib\n",
    "import tqdm\n",
    "import json\n",
    "import pickle\n",
    "import logging\n",
    "import itertools\n",
    "logging.basicConfig(format='%(asctime)s : %(levelname)s : %(message)s', level=logging.INFO)\n",
    "\n",
    "from datasets import Dataset\n",
    "from sentence_transformers import SentenceTransformer\n",
    "from sklearn.metrics.pairwise import cosine_similarity\n",
    "from collections import Counter"
   ]
  },
  {
   "cell_type": "code",
   "execution_count": 50,
   "id": "48e3ce9b-2397-41f3-a7ec-94f658d7df90",
   "metadata": {},
   "outputs": [
    {
     "name": "stderr",
     "output_type": "stream",
     "text": [
      "2024-06-20 18:19:49,152 : INFO : Use pytorch device_name: mps\n",
      "2024-06-20 18:19:49,153 : INFO : Load pretrained SentenceTransformer: sentence-transformers/all-MiniLM-L6-v2\n",
      "/Users/gke/py312env/lib/python3.12/site-packages/huggingface_hub/file_download.py:1132: FutureWarning: `resume_download` is deprecated and will be removed in version 1.0.0. Downloads always resume when possible. If you want to force a new download, use `force_download=True`.\n",
      "  warnings.warn(\n"
     ]
    }
   ],
   "source": [
    "model = SentenceTransformer(\"sentence-transformers/all-MiniLM-L6-v2\")\n",
    "tokenizer = model.tokenizer\n",
    "\n",
    "dfn = pd.read_csv('lmsys-chatbot-arena/aux_files/dfn.csv')"
   ]
  },
  {
   "cell_type": "code",
   "execution_count": 4,
   "id": "b2f59a4d-8a68-41b5-b80e-bbdebc08999e",
   "metadata": {},
   "outputs": [
    {
     "data": {
      "text/html": [
       "<div>\n",
       "<style scoped>\n",
       "    .dataframe tbody tr th:only-of-type {\n",
       "        vertical-align: middle;\n",
       "    }\n",
       "\n",
       "    .dataframe tbody tr th {\n",
       "        vertical-align: top;\n",
       "    }\n",
       "\n",
       "    .dataframe thead th {\n",
       "        text-align: right;\n",
       "    }\n",
       "</style>\n",
       "<table border=\"1\" class=\"dataframe\">\n",
       "  <thead>\n",
       "    <tr style=\"text-align: right;\">\n",
       "      <th></th>\n",
       "      <th>id</th>\n",
       "      <th>prompt</th>\n",
       "      <th>model_a_answer</th>\n",
       "      <th>model_b_answer</th>\n",
       "      <th>winner</th>\n",
       "    </tr>\n",
       "  </thead>\n",
       "  <tbody>\n",
       "    <tr>\n",
       "      <th>0</th>\n",
       "      <td>30192</td>\n",
       "      <td>Is it morally right to try to have a certain p...</td>\n",
       "      <td>The question of whether it is morally right to...</td>\n",
       "      <td>As an AI, I don't have personal beliefs or opi...</td>\n",
       "      <td>A</td>\n",
       "    </tr>\n",
       "  </tbody>\n",
       "</table>\n",
       "</div>"
      ],
      "text/plain": [
       "      id                                             prompt  \\\n",
       "0  30192  Is it morally right to try to have a certain p...   \n",
       "\n",
       "                                      model_a_answer  \\\n",
       "0  The question of whether it is morally right to...   \n",
       "\n",
       "                                      model_b_answer winner  \n",
       "0  As an AI, I don't have personal beliefs or opi...      A  "
      ]
     },
     "execution_count": 4,
     "metadata": {},
     "output_type": "execute_result"
    }
   ],
   "source": [
    "dfn.head(1)"
   ]
  },
  {
   "cell_type": "code",
   "execution_count": 58,
   "id": "d4cf862e-23a2-405e-bc87-fd7f3172c451",
   "metadata": {},
   "outputs": [
    {
     "name": "stdout",
     "output_type": "stream",
     "text": [
      "('given a passage and some supplementary information, you are required to correct and output the refined passage in a fluent and natural style, following these rules : 1. the supplementary information may include the following parts : \" counting \" information that specifies how many instances of a certain kind of entity exist ; 2. correct the sentences in the passage if they are inconsistent with the supplementary information. 3. note that instances of a certain category can also belong to its super - catergories. for example, a bus is also a car. if there is no head in the picture, you cannot see the mask and glasses. examples : supplementary information : counting : there are 2 car. passage : there is no car in the image. the image features a red double - decker bus. refined passage : yes, there are cars in the image. the image features a red double - decker bus. - - - - - - - - - - - - - - - - - - - supplementary information : counting : there are no shoes. passage : the man is wearing a black down jacket and a pair of black trousers. he is wearing a pair of black sneakers. refined passage : the man is wearing a black down jacket and a pair of black trousers. - - - - - -', 'refined passage : the person in the photo is wearing a blue shirt and black pants. he is wearing a black belt and carrying a black bag. he is wearing black shoes. he is holding a silver cellphone in his hand.')\n"
     ]
    }
   ],
   "source": [
    "ids = []\n",
    "anchor = []\n",
    "positive = []\n",
    "idx = 0\n",
    "def create_id_anchor_positive(id_ , anch , posit):\n",
    "    ids.append(id_)\n",
    "    anchor.append(anch)\n",
    "    positive.append(posit)\n",
    "\n",
    "for row in dfn.iterrows():\n",
    "    prompt = row[1]['prompt']\n",
    "    answer_a = row[1]['model_a_answer']\n",
    "    answer_b = row[1]['model_b_answer']\n",
    "    \n",
    "    p = tokenizer([prompt] , return_tensors='pt').encodings[0].tokens\n",
    "    a = tokenizer([answer_a] , return_tensors='pt').encodings[0].tokens\n",
    "    b = tokenizer([answer_b] , return_tensors='pt').encodings[0].tokens\n",
    "    \n",
    "    p_len = len(p)\n",
    "    a_len = len(a)\n",
    "    b_len = len(b)\n",
    "\n",
    "    id_ = row[1]['id']\n",
    "    winner = row[1]['winner']\n",
    "\n",
    "    if p_len > 256:\n",
    "        p_prime = [p[i:i+254] for i in range(1, len(p)-1, 254)]\n",
    "        s_temp = []\n",
    "        for s in p_prime:\n",
    "            s = tokenizer.convert_tokens_to_string(s)\n",
    "            s_temp.append(s)\n",
    "        \n",
    "        if winner == 'N':\n",
    "            a.pop()\n",
    "            a_prime = [a[i:i+254] for i in range(1, len(a)-1, 254)]\n",
    "            a_temp = []\n",
    "            for s in a_prime:\n",
    "                s = tokenizer.convert_tokens_to_string(s)\n",
    "                a_temp.append(s)\n",
    "        if winner == 'B':\n",
    "            b_prime = [b[i:i+254] for i in range(1, len(b)-1, 254)]\n",
    "                # create_id_anchor_positive(id_ , winner , answer_a)\n",
    "        m = itertools.product(s_temp , a_temp)\n",
    "        for zed in m:\n",
    "            print(zed)\n",
    "            break\n",
    "        break\n",
    "\n",
    "    elif a_len > 256:\n",
    "        pass\n",
    "    elif b_len > 256:\n",
    "        pass\n",
    "    else:\n",
    "        if winner == 'A':\n",
    "            create_id_anchor_positive(id_ , prompt , answer_a)\n",
    "        if winner == 'B':\n",
    "            create_id_anchor_positive(id_ , prompt , answer_b)\n",
    "        pass\n",
    "    idx += 1"
   ]
  }
 ],
 "metadata": {
  "kernelspec": {
   "display_name": "Python 3 (ipykernel)",
   "language": "python",
   "name": "python3"
  },
  "language_info": {
   "codemirror_mode": {
    "name": "ipython",
    "version": 3
   },
   "file_extension": ".py",
   "mimetype": "text/x-python",
   "name": "python",
   "nbconvert_exporter": "python",
   "pygments_lexer": "ipython3",
   "version": "3.12.3"
  }
 },
 "nbformat": 4,
 "nbformat_minor": 5
}
