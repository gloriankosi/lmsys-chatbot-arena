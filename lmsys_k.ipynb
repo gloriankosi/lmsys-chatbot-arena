{
 "cells": [
  {
   "cell_type": "code",
   "execution_count": null,
   "id": "60478cb1-8fea-404e-96b1-91b159472db5",
   "metadata": {},
   "outputs": [],
   "source": [
    "# !kaggle competitions download -c lmsys-chatbot-arena\n",
    "# !pip install scipy==1.12\n",
    "# !pip install 'spacy[apple]'"
   ]
  },
  {
   "cell_type": "code",
   "execution_count": 86,
   "id": "74d688d9-3ae6-4122-8774-c65cfd66c970",
   "metadata": {},
   "outputs": [],
   "source": [
    "import numpy as np\n",
    "import pandas as pd\n",
    "import ast\n",
    "import warnings\n",
    "import scipy\n",
    "import matplotlib.pyplot as plt\n",
    "import spacy\n",
    "import difflib\n",
    "import tqdm\n",
    "import json\n",
    "import pickle\n",
    "import gensim\n",
    "\n",
    "import logging\n",
    "logging.basicConfig(format='%(asctime)s : %(levelname)s : %(message)s', level=logging.INFO)\n",
    "\n",
    "from gensim import corpora\n",
    "from gensim.test.utils import get_tmpfile\n",
    "from gensim.models.doc2vec import Doc2Vec\n",
    "from collections import Counter"
   ]
  },
  {
   "cell_type": "code",
   "execution_count": 2,
   "id": "ee6a5d62-87f8-4b56-95b3-e2a4f497060d",
   "metadata": {},
   "outputs": [],
   "source": [
    "df_train = pd.read_csv(\"lmsys-chatbot-arena/train.csv\")"
   ]
  },
  {
   "cell_type": "code",
   "execution_count": 3,
   "id": "ec506b0a-c56f-4dda-b89a-4a144a21055f",
   "metadata": {},
   "outputs": [
    {
     "data": {
      "text/plain": [
       "57477"
      ]
     },
     "execution_count": 3,
     "metadata": {},
     "output_type": "execute_result"
    }
   ],
   "source": [
    "df_train.id.nunique()"
   ]
  },
  {
   "cell_type": "code",
   "execution_count": 4,
   "id": "ef786866-14a9-4788-9a6d-aae040812be2",
   "metadata": {},
   "outputs": [
    {
     "data": {
      "text/html": [
       "<div>\n",
       "<style scoped>\n",
       "    .dataframe tbody tr th:only-of-type {\n",
       "        vertical-align: middle;\n",
       "    }\n",
       "\n",
       "    .dataframe tbody tr th {\n",
       "        vertical-align: top;\n",
       "    }\n",
       "\n",
       "    .dataframe thead th {\n",
       "        text-align: right;\n",
       "    }\n",
       "</style>\n",
       "<table border=\"1\" class=\"dataframe\">\n",
       "  <thead>\n",
       "    <tr style=\"text-align: right;\">\n",
       "      <th></th>\n",
       "      <th>id</th>\n",
       "      <th>model_a</th>\n",
       "      <th>model_b</th>\n",
       "      <th>prompt</th>\n",
       "      <th>response_a</th>\n",
       "      <th>response_b</th>\n",
       "      <th>winner_model_a</th>\n",
       "      <th>winner_model_b</th>\n",
       "      <th>winner_tie</th>\n",
       "    </tr>\n",
       "  </thead>\n",
       "  <tbody>\n",
       "    <tr>\n",
       "      <th>0</th>\n",
       "      <td>30192</td>\n",
       "      <td>gpt-4-1106-preview</td>\n",
       "      <td>gpt-4-0613</td>\n",
       "      <td>[\"Is it morally right to try to have a certain...</td>\n",
       "      <td>[\"The question of whether it is morally right ...</td>\n",
       "      <td>[\"As an AI, I don't have personal beliefs or o...</td>\n",
       "      <td>1</td>\n",
       "      <td>0</td>\n",
       "      <td>0</td>\n",
       "    </tr>\n",
       "    <tr>\n",
       "      <th>1</th>\n",
       "      <td>53567</td>\n",
       "      <td>koala-13b</td>\n",
       "      <td>gpt-4-0613</td>\n",
       "      <td>[\"What is the difference between marriage lice...</td>\n",
       "      <td>[\"A marriage license is a legal document that ...</td>\n",
       "      <td>[\"A marriage license and a marriage certificat...</td>\n",
       "      <td>0</td>\n",
       "      <td>1</td>\n",
       "      <td>0</td>\n",
       "    </tr>\n",
       "    <tr>\n",
       "      <th>2</th>\n",
       "      <td>65089</td>\n",
       "      <td>gpt-3.5-turbo-0613</td>\n",
       "      <td>mistral-medium</td>\n",
       "      <td>[\"explain function calling. how would you call...</td>\n",
       "      <td>[\"Function calling is the process of invoking ...</td>\n",
       "      <td>[\"Function calling is the process of invoking ...</td>\n",
       "      <td>0</td>\n",
       "      <td>0</td>\n",
       "      <td>1</td>\n",
       "    </tr>\n",
       "    <tr>\n",
       "      <th>3</th>\n",
       "      <td>96401</td>\n",
       "      <td>llama-2-13b-chat</td>\n",
       "      <td>mistral-7b-instruct</td>\n",
       "      <td>[\"How can I create a test set for a very rare ...</td>\n",
       "      <td>[\"Creating a test set for a very rare category...</td>\n",
       "      <td>[\"When building a classifier for a very rare c...</td>\n",
       "      <td>1</td>\n",
       "      <td>0</td>\n",
       "      <td>0</td>\n",
       "    </tr>\n",
       "    <tr>\n",
       "      <th>4</th>\n",
       "      <td>198779</td>\n",
       "      <td>koala-13b</td>\n",
       "      <td>gpt-3.5-turbo-0314</td>\n",
       "      <td>[\"What is the best way to travel from Tel-Aviv...</td>\n",
       "      <td>[\"The best way to travel from Tel Aviv to Jeru...</td>\n",
       "      <td>[\"The best way to travel from Tel-Aviv to Jeru...</td>\n",
       "      <td>0</td>\n",
       "      <td>1</td>\n",
       "      <td>0</td>\n",
       "    </tr>\n",
       "  </tbody>\n",
       "</table>\n",
       "</div>"
      ],
      "text/plain": [
       "       id             model_a              model_b  \\\n",
       "0   30192  gpt-4-1106-preview           gpt-4-0613   \n",
       "1   53567           koala-13b           gpt-4-0613   \n",
       "2   65089  gpt-3.5-turbo-0613       mistral-medium   \n",
       "3   96401    llama-2-13b-chat  mistral-7b-instruct   \n",
       "4  198779           koala-13b   gpt-3.5-turbo-0314   \n",
       "\n",
       "                                              prompt  \\\n",
       "0  [\"Is it morally right to try to have a certain...   \n",
       "1  [\"What is the difference between marriage lice...   \n",
       "2  [\"explain function calling. how would you call...   \n",
       "3  [\"How can I create a test set for a very rare ...   \n",
       "4  [\"What is the best way to travel from Tel-Aviv...   \n",
       "\n",
       "                                          response_a  \\\n",
       "0  [\"The question of whether it is morally right ...   \n",
       "1  [\"A marriage license is a legal document that ...   \n",
       "2  [\"Function calling is the process of invoking ...   \n",
       "3  [\"Creating a test set for a very rare category...   \n",
       "4  [\"The best way to travel from Tel Aviv to Jeru...   \n",
       "\n",
       "                                          response_b  winner_model_a  \\\n",
       "0  [\"As an AI, I don't have personal beliefs or o...               1   \n",
       "1  [\"A marriage license and a marriage certificat...               0   \n",
       "2  [\"Function calling is the process of invoking ...               0   \n",
       "3  [\"When building a classifier for a very rare c...               1   \n",
       "4  [\"The best way to travel from Tel-Aviv to Jeru...               0   \n",
       "\n",
       "   winner_model_b  winner_tie  \n",
       "0               0           0  \n",
       "1               1           0  \n",
       "2               0           1  \n",
       "3               0           0  \n",
       "4               1           0  "
      ]
     },
     "execution_count": 4,
     "metadata": {},
     "output_type": "execute_result"
    }
   ],
   "source": [
    "df_train.head(5)"
   ]
  },
  {
   "cell_type": "code",
   "execution_count": 87,
   "id": "bbba7d09-37aa-4ab3-be3c-066d73a049e4",
   "metadata": {},
   "outputs": [
    {
     "data": {
      "text/plain": [
       "(57477, 9)"
      ]
     },
     "execution_count": 87,
     "metadata": {},
     "output_type": "execute_result"
    }
   ],
   "source": [
    "df_train.shape"
   ]
  },
  {
   "cell_type": "code",
   "execution_count": 6,
   "id": "b164e524-4376-4e2c-8d57-c452e91c27d0",
   "metadata": {},
   "outputs": [
    {
     "data": {
      "text/plain": [
       "64"
      ]
     },
     "execution_count": 6,
     "metadata": {},
     "output_type": "execute_result"
    }
   ],
   "source": [
    "model = df_train.model_a.unique()\n",
    "df_train.model_a.nunique()"
   ]
  },
  {
   "cell_type": "code",
   "execution_count": 7,
   "id": "062edb75-ec9f-4a8f-b56f-ebfcd1b5f0a7",
   "metadata": {},
   "outputs": [
    {
     "data": {
      "text/plain": [
       "['Is it morally right to try to have a certain percentage of females on managerial positions?',\n",
       " 'OK, does pineapple belong on a pizza? Relax and give me fun answer.']"
      ]
     },
     "execution_count": 7,
     "metadata": {},
     "output_type": "execute_result"
    }
   ],
   "source": [
    "ast.literal_eval(df_train.loc[0][\"prompt\"])"
   ]
  },
  {
   "cell_type": "code",
   "execution_count": 8,
   "id": "60ff1acf-1d7e-4f71-8334-3a81191c10b0",
   "metadata": {},
   "outputs": [],
   "source": [
    "warnings.filterwarnings(\"ignore\")\n",
    "train_prompt_response_winner = []\n",
    "total_rows_processed = 0\n",
    "for row in df_train.iterrows():\n",
    "    try:\n",
    "        prompts = ast.literal_eval(row[1][\"prompt\"])\n",
    "\n",
    "        model_a = row[1][\"model_a\"]\n",
    "        model_b = row[1][\"model_b\"]\n",
    "\n",
    "        response_a = ast.literal_eval(row[1][\"response_a\"])\n",
    "        response_b = ast.literal_eval(row[1][\"response_b\"])\n",
    "\n",
    "        winner_model_a = int(row[1][\"winner_model_a\"])\n",
    "        winner_model_b = int(row[1][\"winner_model_b\"])\n",
    "\n",
    "        winner = \"N\"\n",
    "\n",
    "        if winner_model_a == 1:\n",
    "            winner = \"A\"\n",
    "        elif winner_model_b == 1:\n",
    "            winner = \"B\"\n",
    "        for idx, p in enumerate(prompts):\n",
    "            train_prompt_response_winner.append(\n",
    "                {\n",
    "                    \"prompt\": p,\n",
    "                    \"model_a\": model_a,\n",
    "                    \"model_b\": model_b,\n",
    "                    \"model_a_response\": response_a[idx],\n",
    "                    \"model_b_response\": response_b[idx],\n",
    "                    \"winner\": winner,\n",
    "                }\n",
    "            )\n",
    "        total_rows_processed += 1\n",
    "    except Exception as e:\n",
    "        pass\n",
    "    # print(prompt)\n",
    "    # print(aux_list[1])\n",
    "    # break"
   ]
  },
  {
   "cell_type": "code",
   "execution_count": 9,
   "id": "99b14242-6db7-4504-a8ac-c3dd32b98e6f",
   "metadata": {},
   "outputs": [
    {
     "data": {
      "text/plain": [
       "57316"
      ]
     },
     "execution_count": 9,
     "metadata": {},
     "output_type": "execute_result"
    }
   ],
   "source": [
    "total_rows_processed"
   ]
  },
  {
   "cell_type": "code",
   "execution_count": 10,
   "id": "3264f09f-36fc-435a-96a3-bdefddc7e967",
   "metadata": {},
   "outputs": [
    {
     "data": {
      "text/html": [
       "<div>\n",
       "<style scoped>\n",
       "    .dataframe tbody tr th:only-of-type {\n",
       "        vertical-align: middle;\n",
       "    }\n",
       "\n",
       "    .dataframe tbody tr th {\n",
       "        vertical-align: top;\n",
       "    }\n",
       "\n",
       "    .dataframe thead th {\n",
       "        text-align: right;\n",
       "    }\n",
       "</style>\n",
       "<table border=\"1\" class=\"dataframe\">\n",
       "  <thead>\n",
       "    <tr style=\"text-align: right;\">\n",
       "      <th></th>\n",
       "      <th>id</th>\n",
       "      <th>model_a</th>\n",
       "      <th>model_b</th>\n",
       "      <th>prompt</th>\n",
       "      <th>response_a</th>\n",
       "      <th>response_b</th>\n",
       "      <th>winner_model_a</th>\n",
       "      <th>winner_model_b</th>\n",
       "      <th>winner_tie</th>\n",
       "    </tr>\n",
       "  </thead>\n",
       "  <tbody>\n",
       "    <tr>\n",
       "      <th>49</th>\n",
       "      <td>3567106</td>\n",
       "      <td>gpt-3.5-turbo-0613</td>\n",
       "      <td>gpt-4-1106-preview</td>\n",
       "      <td>[\"Who's the man with the master plan?\"]</td>\n",
       "      <td>[\"The man with the master plan can refer to di...</td>\n",
       "      <td>[\"\\\"The man with the master plan\\\" is a phrase...</td>\n",
       "      <td>0</td>\n",
       "      <td>1</td>\n",
       "      <td>0</td>\n",
       "    </tr>\n",
       "    <tr>\n",
       "      <th>60</th>\n",
       "      <td>4186011</td>\n",
       "      <td>palm-2</td>\n",
       "      <td>gpt-4-1106-preview</td>\n",
       "      <td>[\"how can I write a function in Rust that reve...</td>\n",
       "      <td>[\"```rust\\nfn reverse_string(s: &amp;str) -&gt; Strin...</td>\n",
       "      <td>[\"In Rust, you can reverse a string by using t...</td>\n",
       "      <td>0</td>\n",
       "      <td>1</td>\n",
       "      <td>0</td>\n",
       "    </tr>\n",
       "    <tr>\n",
       "      <th>118</th>\n",
       "      <td>8942841</td>\n",
       "      <td>gpt-3.5-turbo-0613</td>\n",
       "      <td>gpt-4-1106-preview</td>\n",
       "      <td>[\"What are some good quiz questions testing ge...</td>\n",
       "      <td>[\"Here are some quiz questions that test gener...</td>\n",
       "      <td>[\"Creating a quiz that balances general knowle...</td>\n",
       "      <td>0</td>\n",
       "      <td>1</td>\n",
       "      <td>0</td>\n",
       "    </tr>\n",
       "    <tr>\n",
       "      <th>135</th>\n",
       "      <td>10156891</td>\n",
       "      <td>llama-2-7b-chat</td>\n",
       "      <td>gpt-4-1106-preview</td>\n",
       "      <td>[\"alright. You may want to sit down for this o...</td>\n",
       "      <td>[\"Wow, that's a fascinating concept! The idea ...</td>\n",
       "      <td>[\"The concept of consciousness and its origins...</td>\n",
       "      <td>0</td>\n",
       "      <td>1</td>\n",
       "      <td>0</td>\n",
       "    </tr>\n",
       "    <tr>\n",
       "      <th>166</th>\n",
       "      <td>13035190</td>\n",
       "      <td>gemini-pro</td>\n",
       "      <td>gpt-4-1106-preview</td>\n",
       "      <td>[\"An electron is to a proton as a tennis ball ...</td>\n",
       "      <td>[\"Earth\"]</td>\n",
       "      <td>[\"An electron is to a proton as a tennis ball ...</td>\n",
       "      <td>0</td>\n",
       "      <td>1</td>\n",
       "      <td>0</td>\n",
       "    </tr>\n",
       "  </tbody>\n",
       "</table>\n",
       "</div>"
      ],
      "text/plain": [
       "           id             model_a             model_b  \\\n",
       "49    3567106  gpt-3.5-turbo-0613  gpt-4-1106-preview   \n",
       "60    4186011              palm-2  gpt-4-1106-preview   \n",
       "118   8942841  gpt-3.5-turbo-0613  gpt-4-1106-preview   \n",
       "135  10156891     llama-2-7b-chat  gpt-4-1106-preview   \n",
       "166  13035190          gemini-pro  gpt-4-1106-preview   \n",
       "\n",
       "                                                prompt  \\\n",
       "49             [\"Who's the man with the master plan?\"]   \n",
       "60   [\"how can I write a function in Rust that reve...   \n",
       "118  [\"What are some good quiz questions testing ge...   \n",
       "135  [\"alright. You may want to sit down for this o...   \n",
       "166  [\"An electron is to a proton as a tennis ball ...   \n",
       "\n",
       "                                            response_a  \\\n",
       "49   [\"The man with the master plan can refer to di...   \n",
       "60   [\"```rust\\nfn reverse_string(s: &str) -> Strin...   \n",
       "118  [\"Here are some quiz questions that test gener...   \n",
       "135  [\"Wow, that's a fascinating concept! The idea ...   \n",
       "166                                          [\"Earth\"]   \n",
       "\n",
       "                                            response_b  winner_model_a  \\\n",
       "49   [\"\\\"The man with the master plan\\\" is a phrase...               0   \n",
       "60   [\"In Rust, you can reverse a string by using t...               0   \n",
       "118  [\"Creating a quiz that balances general knowle...               0   \n",
       "135  [\"The concept of consciousness and its origins...               0   \n",
       "166  [\"An electron is to a proton as a tennis ball ...               0   \n",
       "\n",
       "     winner_model_b  winner_tie  \n",
       "49                1           0  \n",
       "60                1           0  \n",
       "118               1           0  \n",
       "135               1           0  \n",
       "166               1           0  "
      ]
     },
     "execution_count": 10,
     "metadata": {},
     "output_type": "execute_result"
    }
   ],
   "source": [
    "df_train[\n",
    "    (df_train[\"model_b\"] == \"gpt-4-1106-preview\") & (df_train[\"winner_model_b\"] == 1)\n",
    "].head(5)"
   ]
  },
  {
   "cell_type": "code",
   "execution_count": 11,
   "id": "6aafcb18-b561-4280-b462-3c2048a8d129",
   "metadata": {},
   "outputs": [
    {
     "data": {
      "text/plain": [
       "2019"
      ]
     },
     "execution_count": 11,
     "metadata": {},
     "output_type": "execute_result"
    }
   ],
   "source": [
    "df_train[\n",
    "    (df_train[\"model_a\"] == \"gpt-4-1106-preview\") & (df_train[\"winner_model_a\"] == 1)\n",
    "].shape[0]"
   ]
  },
  {
   "cell_type": "markdown",
   "id": "acd70e31-efb4-42e0-b3b8-b5e9af364cbc",
   "metadata": {},
   "source": [
    "### Which models performed the best?"
   ]
  },
  {
   "cell_type": "code",
   "execution_count": 12,
   "id": "cb42b25b-537f-4e2a-98a0-b4734bebeb1c",
   "metadata": {},
   "outputs": [
    {
     "name": "stdout",
     "output_type": "stream",
     "text": [
      "{'llama-2-13b-chat': 856, 'gpt-3.5-turbo-1106': 871, 'claude-2.0': 956, 'mixtral-8x7b-instruct-v0.1': 1196, 'mistral-medium': 1219, 'vicuna-13b': 1244, 'vicuna-33b': 1268, 'llama-2-70b-chat': 1277, 'claude-instant-1': 1642, 'claude-2.1': 1703, 'claude-1': 1747, 'gpt-4-0314': 1993, 'gpt-3.5-turbo-0613': 2381, 'gpt-4-0613': 2450, 'gpt-4-1106-preview': 4073}\n"
     ]
    }
   ],
   "source": [
    "model_wins = {}\n",
    "for e in model:\n",
    "    wins_a = df_train[\n",
    "        (df_train[\"model_a\"] == e) & (df_train[\"winner_model_a\"] == 1)\n",
    "    ].shape[0]\n",
    "    wins_b = df_train[\n",
    "        (df_train[\"model_b\"] == e) & (df_train[\"winner_model_b\"] == 1)\n",
    "    ].shape[0]\n",
    "    wins_total = wins_a + wins_b\n",
    "    model_wins[e] = wins_total\n",
    "\n",
    "model_wins = {k: v for k, v in sorted(model_wins.items(), key=lambda item: item[1])}\n",
    "n = -15\n",
    "top_n = {k: model_wins[k] for k in list(model_wins.keys())[n:]}\n",
    "print(top_n)"
   ]
  },
  {
   "cell_type": "code",
   "execution_count": 13,
   "id": "d2e2d183-7b34-40dc-9bc1-6967b76906c4",
   "metadata": {},
   "outputs": [
    {
     "data": {
      "text/plain": [
       "<BarContainer object of 15 artists>"
      ]
     },
     "execution_count": 13,
     "metadata": {},
     "output_type": "execute_result"
    },
    {
     "data": {
      "image/png": "[encoded data removed]",
      "text/plain": [
       "<Figure size 640x480 with 1 Axes>"
      ]
     },
     "metadata": {},
     "output_type": "display_data"
    }
   ],
   "source": [
    "models = top_n.keys()\n",
    "wins = top_n.values()\n",
    "\n",
    "y_pos = np.arange(len(models))\n",
    "plt.yticks(y_pos, models)\n",
    "plt.barh(y_pos, wins, align=\"center\", alpha=0.5)"
   ]
  },
  {
   "cell_type": "markdown",
   "id": "685e54a8-a8df-4ed0-b51a-d142ebff7344",
   "metadata": {},
   "source": [
    "## EDA"
   ]
  },
  {
   "cell_type": "code",
   "execution_count": 14,
   "id": "7e7e6eff-49de-4437-9e65-b96622e151cc",
   "metadata": {},
   "outputs": [],
   "source": [
    "tagger = spacy.load(\"en_core_web_lg\")"
   ]
  },
  {
   "cell_type": "code",
   "execution_count": 15,
   "id": "048e3c2b-9dfe-4257-b382-0922d12101b1",
   "metadata": {},
   "outputs": [],
   "source": [
    "# https://www.ling.upenn.edu/courses/Fall_2003/ling001/penn_treebank_pos.html\n",
    "def pos_tok(s):\n",
    "    # tokenized_text = word_tokenize(s)\n",
    "    # pos_tagged_text = tagger.tag(tokenized_text)\n",
    "    s = str(s)\n",
    "    doc = tagger(s)\n",
    "    token_tag_list = []\n",
    "    for token in doc:\n",
    "        token_tag_list.append((token, token.pos_))\n",
    "    return token_tag_list\n",
    "\n",
    "\n",
    "def tag_seq_gen(token_tag_list):\n",
    "    # collect sequence of tags\n",
    "    # example:\n",
    "    # PUNCT NOUN AUX PROPN ... DET PROPN\n",
    "    tag_seq_list = []\n",
    "    for token, tag in token_tag_list:\n",
    "        tag_seq_list.append(tag)\n",
    "    return tag_seq_list\n",
    "\n",
    "token_tag_list = pos_tok(train_prompt_response_winner[10][\"prompt\"])"
   ]
  },
  {
   "cell_type": "code",
   "execution_count": 16,
   "id": "d6fbbc2f-42aa-4fbe-9af7-04dde3573076",
   "metadata": {},
   "outputs": [
    {
     "data": {
      "text/plain": [
       "70912"
      ]
     },
     "execution_count": 16,
     "metadata": {},
     "output_type": "execute_result"
    }
   ],
   "source": [
    "len(train_prompt_response_winner)"
   ]
  },
  {
   "cell_type": "markdown",
   "id": "a892682d-1021-4f37-8623-7fe0e0c1528a",
   "metadata": {},
   "source": [
    "### Length Analysis\n",
    "\n",
    "- Are winning answers longer or shorter than the prompt? Are losing answers longer or shorter than the prompt? What about answers in a draw?\n",
    "- How much longer are prompts/answers to each other?"
   ]
  },
  {
   "cell_type": "code",
   "execution_count": 19,
   "id": "61f54438-35eb-4d97-b6c5-5923831ae92e",
   "metadata": {},
   "outputs": [],
   "source": [
    "try:\n",
    "    df_n = pd.read_csv(\"lmsys-chatbot-arena/aux_files/df_w_lens.csv\")\n",
    "except:\n",
    "    prompts = []\n",
    "    prompt_lens = []\n",
    "    \n",
    "    answer_a = []\n",
    "    answer_a_lens = []\n",
    "    \n",
    "    answer_b = []\n",
    "    answer_b_lens = []\n",
    "    \n",
    "    winner_list = []\n",
    "    \n",
    "    for idx, e in tqdm.tqdm(enumerate(train_prompt_response_winner)):\n",
    "        try:\n",
    "            prompt_tokens = tagger(e[\"prompt\"])\n",
    "            prompts.append(e[\"prompt\"])\n",
    "            prompt_lens.append(len(list(prompt_tokens)))\n",
    "        except:\n",
    "            prompts.append(pd.NA)\n",
    "            prompt_lens.append(pd.NA)\n",
    "        try:\n",
    "            model_a_response_len = len(list(tagger(e[\"model_a_response\"])))\n",
    "            answer_a.append(e[\"model_a_response\"])\n",
    "            answer_a_lens.append(model_a_response_len)\n",
    "        except:\n",
    "            answer_a.append(pd.NA)\n",
    "            answer_a_lens.append(pd.NA)\n",
    "        try:\n",
    "            model_b_response_len = len(list(tagger(e[\"model_b_response\"])))\n",
    "            answer_b.append(e[\"model_b_response\"])\n",
    "            answer_b_lens.append(model_b_response_len)\n",
    "        except:\n",
    "            answer_b.append(pd.NA)\n",
    "            answer_b_lens.append(pd.NA)\n",
    "        try:\n",
    "            winner = e[\"winner\"]\n",
    "            winner_list.append(winner)\n",
    "        except:\n",
    "            winner_list.append(pd.NA)\n",
    "\n",
    "    df_n = pd.DataFrame()\n",
    "    df_n[\"prompts\"] = prompts\n",
    "    df_n[\"prompt_lens\"] = prompt_lens\n",
    "    df_n[\"answer_a\"] = answer_a\n",
    "    df_n[\"answer_b\"] = answer_b\n",
    "    df_n[\"answer_a_lens\"] = answer_a_lens\n",
    "    df_n[\"answer_b_lens\"] = answer_b_lens\n",
    "    df_n[\"winner\"] = winner_list\n",
    "    \n",
    "    df_n = df_n.dropna()\n",
    "    df_n.to_csv(\"lmsys-chatbot-arena/aux_files/df_w_lens.csv\")\n",
    "    df_n"
   ]
  },
  {
   "cell_type": "code",
   "execution_count": 21,
   "id": "4be3733f-858b-48ab-8ebd-e8b3cbc96d08",
   "metadata": {},
   "outputs": [],
   "source": [
    "# remove any values < 1 and replace them with the mean\n",
    "prompt_lens = np.array(df_n[\"prompt_lens\"].tolist())\n",
    "prompt_lens[~(prompt_lens >= 1)] = np.mean(prompt_lens)\n",
    "\n",
    "answer_a_wins = df_n[(df_n[\"winner\"] == \"A\")][\"answer_a_lens\"].tolist()\n",
    "answer_b_wins = df_n[(df_n[\"winner\"] == \"B\")][\"answer_b_lens\"].tolist()\n",
    "total_answer_a_or_b_wins = np.array(answer_a_wins + answer_b_wins)\n",
    "total_answer_a_or_b_wins[~(total_answer_a_or_b_wins >= 1)] = np.mean(total_answer_a_or_b_wins)\n",
    "\n",
    "answer_a_lose = df_n[(df_n[\"winner\"] == \"B\")][\"answer_a_lens\"].tolist()\n",
    "answer_b_lose = df_n[(df_n[\"winner\"] == \"A\")][\"answer_b_lens\"].tolist()\n",
    "total_answer_a_or_b_lose = np.array(answer_a_lose + answer_b_lose)\n",
    "total_answer_a_or_b_lose[~(total_answer_a_or_b_lose >= 1)] = np.mean(total_answer_a_or_b_lose)\n",
    "\n",
    "answer_a_tied = df_n[(df_n[\"winner\"] == \"N\")][\"answer_a_lens\"].tolist()\n",
    "answer_b_tied = df_n[(df_n[\"winner\"] == \"N\")][\"answer_b_lens\"].tolist()\n",
    "total_tied_answers = np.array(answer_a_tied + answer_b_tied)\n",
    "total_tied_answers[~(total_tied_answers >= 1)] = np.mean(total_tied_answers)\n",
    "\n",
    "# get log scale vals\n",
    "log_prompt_lens = np.log(prompt_lens)\n",
    "log_total_answer_a_or_b_wins = np.log(total_answer_a_or_b_wins)\n",
    "log_total_answer_a_or_b_lose = np.log(total_answer_a_or_b_lose)\n",
    "log_total_tied_answers = np.log(total_tied_answers)"
   ]
  },
  {
   "cell_type": "code",
   "execution_count": 22,
   "id": "6c120234-3c13-48db-a5b9-9e6f9a7dbfbd",
   "metadata": {},
   "outputs": [],
   "source": [
    "def plot_creater_2_x_2(x1, logx1, title1, title2, bins=60):\n",
    "    fig = plt.figure(figsize=(12, 8))\n",
    "\n",
    "    ax1 = fig.add_subplot(2, 2, 1)\n",
    "    ax1.set_title(title1)\n",
    "    ax1 = plt.hist(x1, bins=bins)\n",
    "\n",
    "    ax2 = fig.add_subplot(2, 2, 2)\n",
    "    ax2.set_title(title2)\n",
    "    ax2 = plt.hist(logx1, bins=bins)"
   ]
  },
  {
   "cell_type": "markdown",
   "id": "fcc0a59b-abb5-4a9b-b6a8-b54c4d50a5fb",
   "metadata": {},
   "source": [
    "#### Prompt Length"
   ]
  },
  {
   "cell_type": "code",
   "execution_count": 23,
   "id": "58735ae7-7246-47dd-bbeb-da9944149dcc",
   "metadata": {},
   "outputs": [
    {
     "name": "stdout",
     "output_type": "stream",
     "text": [
      "                  0\n",
      "count  70158.000000\n",
      "mean      57.745061\n",
      "std      175.746290\n",
      "min        1.000000\n",
      "25%        8.000000\n",
      "50%       15.000000\n",
      "75%       36.000000\n",
      "max     3915.000000\n"
     ]
    },
    {
     "data": {
      "image/png": "[encoded data removed]",
      "text/plain": [
       "<Figure size 1200x800 with 2 Axes>"
      ]
     },
     "metadata": {},
     "output_type": "display_data"
    }
   ],
   "source": [
    "plot_creater_2_x_2(\n",
    "    prompt_lens,\n",
    "    log_prompt_lens,\n",
    "    \"Prompt Length (Count)\",\n",
    "    \"Prompt Length (Log Scale Count)\",\n",
    ")\n",
    "\n",
    "prompt_lens_desc = pd.DataFrame(prompt_lens)\n",
    "print(prompt_lens_desc.describe())"
   ]
  },
  {
   "cell_type": "markdown",
   "id": "fa1d88cf-9878-47ec-b687-aeb3bc332646",
   "metadata": {},
   "source": [
    "#### Winning Answer Length"
   ]
  },
  {
   "cell_type": "code",
   "execution_count": 24,
   "id": "04c756a2-f381-4d90-a93d-59c25f26de4b",
   "metadata": {},
   "outputs": [
    {
     "name": "stdout",
     "output_type": "stream",
     "text": [
      "                  0\n",
      "count  48881.000000\n",
      "mean     245.689143\n",
      "std      180.606081\n",
      "min        1.000000\n",
      "25%       92.000000\n",
      "50%      228.000000\n",
      "75%      360.000000\n",
      "max     1682.000000\n"
     ]
    },
    {
     "data": {
      "image/png": "[encoded data removed]",
      "text/plain": [
       "<Figure size 1200x800 with 2 Axes>"
      ]
     },
     "metadata": {},
     "output_type": "display_data"
    }
   ],
   "source": [
    "plot_creater_2_x_2(\n",
    "    total_answer_a_or_b_wins,\n",
    "    log_total_answer_a_or_b_wins,\n",
    "    \"Winning Answer Length (Count)\",\n",
    "    \"Winning Answer Length (Log Scale Count)\",\n",
    ")\n",
    "\n",
    "answer_win_lens_desc = pd.DataFrame(total_answer_a_or_b_wins)\n",
    "print(answer_win_lens_desc.describe())"
   ]
  },
  {
   "cell_type": "markdown",
   "id": "22ed946e-4945-46f2-86c2-805424785156",
   "metadata": {},
   "source": [
    "#### Losing Answer Length"
   ]
  },
  {
   "cell_type": "code",
   "execution_count": 25,
   "id": "5016930c-ff01-4399-8bc5-193678b05170",
   "metadata": {},
   "outputs": [
    {
     "name": "stdout",
     "output_type": "stream",
     "text": [
      "(48881, 1)\n",
      "                  0\n",
      "count  48881.000000\n",
      "mean     203.586138\n",
      "std      162.860320\n",
      "min        1.000000\n",
      "25%       69.000000\n",
      "50%      175.000000\n",
      "75%      301.000000\n",
      "max     1983.000000\n"
     ]
    },
    {
     "data": {
      "image/png": "[encoded data removed]",
      "text/plain": [
       "<Figure size 1200x800 with 2 Axes>"
      ]
     },
     "metadata": {},
     "output_type": "display_data"
    }
   ],
   "source": [
    "plot_creater_2_x_2(\n",
    "    total_answer_a_or_b_lose,\n",
    "    log_total_answer_a_or_b_lose,\n",
    "    \"Losing Answer Length (Count)\",\n",
    "    \"Losing Answer Length (Log Scale Count)\",\n",
    ")\n",
    "\n",
    "answer_lose_lens_desc = pd.DataFrame(total_answer_a_or_b_lose)\n",
    "print(answer_lose_lens_desc.shape)\n",
    "print(answer_lose_lens_desc.describe())"
   ]
  },
  {
   "cell_type": "code",
   "execution_count": 26,
   "id": "e5cd0158-a130-4d8a-8684-b6f010c316aa",
   "metadata": {},
   "outputs": [
    {
     "name": "stdout",
     "output_type": "stream",
     "text": [
      "(42554, 1)\n",
      "                  0\n",
      "count  42554.000000\n",
      "mean     205.157987\n",
      "std      171.621314\n",
      "min        1.000000\n",
      "25%       62.000000\n",
      "50%      174.000000\n",
      "75%      308.000000\n",
      "max     3788.000000\n"
     ]
    },
    {
     "data": {
      "image/png": "[encoded data removed]",
      "text/plain": [
       "<Figure size 1200x800 with 2 Axes>"
      ]
     },
     "metadata": {},
     "output_type": "display_data"
    }
   ],
   "source": [
    "plot_creater_2_x_2(\n",
    "    total_tied_answers,\n",
    "    log_total_tied_answers,\n",
    "    \"Tied Answer Length (Count)\",\n",
    "    \"Tied Answer Length (Log Scale Count)\",\n",
    ")\n",
    "\n",
    "total_tied_answers_desc = pd.DataFrame(total_tied_answers)\n",
    "print(total_tied_answers_desc.shape)\n",
    "print(total_tied_answers_desc.describe())"
   ]
  },
  {
   "cell_type": "markdown",
   "id": "ab18ac0f-a957-4975-81c6-8d19454947b6",
   "metadata": {},
   "source": [
    "#### Correlation Coefficient of Prompt Length vs Winner Answer Length"
   ]
  },
  {
   "cell_type": "code",
   "execution_count": 27,
   "id": "b542e91e-ded6-4d96-a947-7424a9b0881c",
   "metadata": {},
   "outputs": [
    {
     "name": "stdout",
     "output_type": "stream",
     "text": [
      "Prompt Length vs Winner Answer Length:\n",
      " [[1.        0.1041611]\n",
      " [0.1041611 1.       ]]\n",
      "Prompt Length vs Tie Answer Length (answer A):\n",
      " [[1.         0.14196895]\n",
      " [0.14196895 1.        ]]\n",
      "Prompt Length vs Tie Answer Length (answer B):\n",
      " [[1.         0.14216932]\n",
      " [0.14216932 1.        ]]\n"
     ]
    }
   ],
   "source": [
    "prompts_len_of_win_a = df_n[(df_n[\"winner\"] == \"A\")][\"prompt_lens\"].tolist()\n",
    "prompts_len_of_win_b = df_n[(df_n[\"winner\"] == \"B\")][\"prompt_lens\"].tolist()\n",
    "\n",
    "prompts_len_of_tie = df_n[(df_n[\"winner\"] == \"N\")][\"prompt_lens\"].tolist()\n",
    "\n",
    "answer_lens_of_a_win = df_n[(df_n[\"winner\"] == \"A\")][\"answer_a_lens\"].tolist()\n",
    "answer_lens_of_b_win = df_n[(df_n[\"winner\"] == \"B\")][\"answer_b_lens\"].tolist()\n",
    "\n",
    "answer_lens_of_a_tie = df_n[(df_n[\"winner\"] == \"N\")][\"answer_a_lens\"].tolist()\n",
    "answer_lens_of_b_tie = df_n[(df_n[\"winner\"] == \"N\")][\"answer_b_lens\"].tolist()\n",
    "\n",
    "prompt_t_lens = prompts_len_of_win_a + prompts_len_of_win_b\n",
    "answer_t_lens = answer_lens_of_a_win + answer_lens_of_b_win\n",
    "\n",
    "print(\"Prompt Length vs Winner Answer Length:\\n\" , np.corrcoef(prompt_t_lens , answer_t_lens))\n",
    "\n",
    "# in a tie, both answers work, split them\n",
    "print(\"Prompt Length vs Tie Answer Length (answer A):\\n\" , np.corrcoef(prompts_len_of_tie , answer_lens_of_a_tie))\n",
    "print(\"Prompt Length vs Tie Answer Length (answer B):\\n\" , np.corrcoef(prompts_len_of_tie , answer_lens_of_b_tie))"
   ]
  },
  {
   "cell_type": "markdown",
   "id": "8cc2a00d-1628-4905-aa4d-5d09aed0d4aa",
   "metadata": {},
   "source": [
    "### Tag Analysis\n",
    "\n",
    "Given a winning/losing answer, what tags are not present in both - the prompt and the answer? Can we establish a relationship between between the a prompt and an answer that is selected (as preferred) through POS tags?\n",
    "\n",
    "- Do winning answers \"consume\" certain tags? For example, do winning tags contain VERBs or NOUNs?\n",
    "- Do losing answers have a common pattern of tags being \"left behind\"? For example, do losing answers leave behind entity tags, or VERBs?"
   ]
  },
  {
   "cell_type": "code",
   "execution_count": 28,
   "id": "a159d056-2d0a-4169-9b20-b803e0772472",
   "metadata": {},
   "outputs": [
    {
     "name": "stderr",
     "output_type": "stream",
     "text": [
      "70912it [22:15, 53.10it/s]\n"
     ]
    },
    {
     "data": {
      "text/plain": [
       "(70158, 754, 21277, 48881, 48881)"
      ]
     },
     "execution_count": 28,
     "metadata": {},
     "output_type": "execute_result"
    }
   ],
   "source": [
    "success = 0\n",
    "failed = 0\n",
    "\n",
    "tags_prompt_winning_answer = []\n",
    "tags_prompt_losing_answer = []\n",
    "tags_prompt_ties = []\n",
    "\n",
    "for idx, m in tqdm.tqdm(enumerate(train_prompt_response_winner)):\n",
    "\n",
    "    prompt = m[\"prompt\"]\n",
    "    winner = m[\"winner\"]\n",
    "\n",
    "    try:\n",
    "        token_tag_list_prompt = pos_tok(prompt)\n",
    "        tag_seq_prompt = tag_seq_gen(token_tag_list_prompt)\n",
    "\n",
    "        token_tag_list_A = pos_tok(m[\"model_a_response\"])\n",
    "        token_tag_list_B = pos_tok(m[\"model_b_response\"])\n",
    "\n",
    "        tag_seq_A = tag_seq_gen(token_tag_list_A)\n",
    "        tag_seq_B = tag_seq_gen(token_tag_list_B)\n",
    "\n",
    "        if winner == \"A\" and winner != \"N\":\n",
    "            tags_prompt_winning_answer.append((tag_seq_prompt, tag_seq_A))\n",
    "            tags_prompt_losing_answer.append((tag_seq_prompt, tag_seq_B))\n",
    "        if winner == \"B\" and winner != \" N\":\n",
    "            tags_prompt_winning_answer.append((tag_seq_prompt, tag_seq_B))\n",
    "            tags_prompt_losing_answer.append((tag_seq_prompt, tag_seq_A))\n",
    "        if winner == \"N\":\n",
    "            tags_prompt_ties.append((tag_seq_prompt, tag_seq_A, tag_seq_B))\n",
    "\n",
    "        success += 1\n",
    "\n",
    "    except:\n",
    "        failed += 1\n",
    "\n",
    "# with open('lmsys-chatbot-arena/aux_files/tags_prompt_winning_answer.json', 'w') as fp:\n",
    "#     json.dump(tags_prompt_winning_answer , fp)\n",
    "\n",
    "# with open('lmsys-chatbot-arena/aux_files/tags_prompt_losing_answer.json', 'w') as fp:\n",
    "#     json.dump(tags_prompt_losing_answer , fp)\n",
    "\n",
    "# with open('lmsys-chatbot-arena/aux_files/tags_prompt_winning_answer.json', 'r') as fp:\n",
    "#     tags_prompt_winning_answer = json.load(fp)\n",
    "\n",
    "# with open('lmsys-chatbot-arena/aux_files/tags_prompt_losing_answer.json', 'r') as fp:\n",
    "#     tags_prompt_losing_answer = json.load(fp)\n",
    "\n",
    "\n",
    "success, failed, len(tags_prompt_ties), len(tags_prompt_winning_answer), len(\n",
    "    tags_prompt_losing_answer\n",
    ")"
   ]
  },
  {
   "cell_type": "code",
   "execution_count": 29,
   "id": "1006f890-0102-413c-9101-a10e1bb8cd16",
   "metadata": {},
   "outputs": [
    {
     "name": "stdout",
     "output_type": "stream",
     "text": [
      "{'SYM': 1244, 'INTJ': 2292, 'X': 2457, 'SPACE': 7382, 'NUM': 11031, 'ADV': 14464, 'SCONJ': 15091, 'PART': 15207, 'CCONJ': 16143, 'PROPN': 23346, 'ADJ': 29381, 'AUX': 31826, 'PRON': 32864, 'DET': 33966, 'ADP': 34580, 'PUNCT': 36267, 'VERB': 38228, 'NOUN': 43459}\n"
     ]
    },
    {
     "data": {
      "image/png": "[encoded data removed]",
      "text/plain": [
       "<Figure size 640x480 with 1 Axes>"
      ]
     },
     "metadata": {},
     "output_type": "display_data"
    }
   ],
   "source": [
    "tag_intersections = []\n",
    "for idx, e in enumerate(tags_prompt_winning_answer):\n",
    "    ans_prompt_intersect = list(set(e[1]).intersection(set(e[0])))\n",
    "    for tag in ans_prompt_intersect:\n",
    "        tag_intersections.append(tag)\n",
    "\n",
    "tag_count_intersections_map = zip()\n",
    "k = list(Counter(tag_intersections).keys())\n",
    "count = list(Counter(tag_intersections).values())\n",
    "tag_count_intersections_map = dict(zip(k, count))\n",
    "tag_count_intersections_map = {\n",
    "    k: v for k, v in sorted(tag_count_intersections_map.items(), key=lambda item: item[1])\n",
    "}\n",
    "\n",
    "print(tag_count_intersections_map)\n",
    "\n",
    "tags = tag_count_intersections_map.keys()\n",
    "counts = tag_count_intersections_map.values()\n",
    "\n",
    "y_pos = np.arange(len(tags))\n",
    "plt.yticks(y_pos, tags)\n",
    "plt.barh(y_pos, counts, align=\"center\", alpha=0.5)\n",
    "plt.show()"
   ]
  },
  {
   "cell_type": "code",
   "execution_count": 30,
   "id": "29cd9fd7-52ae-4df0-8a2f-d71226912077",
   "metadata": {},
   "outputs": [
    {
     "name": "stdout",
     "output_type": "stream",
     "text": [
      "{'NOUN': 4311, 'SYM': 6755, 'VERB': 8421, 'INTJ': 8956, 'ADP': 11316, 'DET': 11475, 'PRON': 11764, 'PUNCT': 12072, 'AUX': 13507, 'PROPN': 15442, 'ADJ': 15931, 'NUM': 17561, 'X': 18600, 'SCONJ': 21992, 'PART': 25327, 'CCONJ': 26141, 'ADV': 27926, 'SPACE': 29823}\n"
     ]
    },
    {
     "data": {
      "image/png": "[encoded data removed]",
      "text/plain": [
       "<Figure size 640x480 with 1 Axes>"
      ]
     },
     "metadata": {},
     "output_type": "display_data"
    }
   ],
   "source": [
    "tag_residuals = []\n",
    "for idx, e in enumerate(tags_prompt_winning_answer):\n",
    "    ans_prompt_diff = list(set(e[1]) - set(e[0]))\n",
    "    for tag in ans_prompt_diff:\n",
    "        tag_residuals.append(tag)\n",
    "\n",
    "tag_count_residuals_map = zip()\n",
    "k = list(Counter(tag_residuals).keys())\n",
    "count = list(Counter(tag_residuals).values())\n",
    "tag_count_residuals_map = dict(zip(k, count))\n",
    "tag_count_residuals_map = {\n",
    "    k: v for k, v in sorted(tag_count_residuals_map.items(), key=lambda item: item[1])\n",
    "}\n",
    "\n",
    "print(tag_count_residuals_map)\n",
    "\n",
    "tags = tag_count_residuals_map.keys()\n",
    "counts = tag_count_residuals_map.values()\n",
    "\n",
    "y_pos = np.arange(len(tags))\n",
    "plt.yticks(y_pos, tags)\n",
    "plt.barh(y_pos, counts, align=\"center\", alpha=0.5)\n",
    "plt.show()"
   ]
  },
  {
   "cell_type": "code",
   "execution_count": 31,
   "id": "5d9ccb0c-2091-4bcc-956a-ea88110f74f0",
   "metadata": {},
   "outputs": [
    {
     "data": {
      "text/html": [
       "<div>\n",
       "<style scoped>\n",
       "    .dataframe tbody tr th:only-of-type {\n",
       "        vertical-align: middle;\n",
       "    }\n",
       "\n",
       "    .dataframe tbody tr th {\n",
       "        vertical-align: top;\n",
       "    }\n",
       "\n",
       "    .dataframe thead th {\n",
       "        text-align: right;\n",
       "    }\n",
       "</style>\n",
       "<table border=\"1\" class=\"dataframe\">\n",
       "  <thead>\n",
       "    <tr style=\"text-align: right;\">\n",
       "      <th></th>\n",
       "      <th>Unnamed: 0</th>\n",
       "      <th>prompts</th>\n",
       "      <th>prompt_lens</th>\n",
       "      <th>answer_a</th>\n",
       "      <th>answer_b</th>\n",
       "      <th>answer_a_lens</th>\n",
       "      <th>answer_b_lens</th>\n",
       "      <th>winner</th>\n",
       "    </tr>\n",
       "  </thead>\n",
       "  <tbody>\n",
       "    <tr>\n",
       "      <th>0</th>\n",
       "      <td>0</td>\n",
       "      <td>Is it morally right to try to have a certain p...</td>\n",
       "      <td>17</td>\n",
       "      <td>The question of whether it is morally right to...</td>\n",
       "      <td>As an AI, I don't have personal beliefs or opi...</td>\n",
       "      <td>527</td>\n",
       "      <td>136</td>\n",
       "      <td>A</td>\n",
       "    </tr>\n",
       "    <tr>\n",
       "      <th>1</th>\n",
       "      <td>2</td>\n",
       "      <td>What is the difference between marriage licens...</td>\n",
       "      <td>11</td>\n",
       "      <td>A marriage license is a legal document that al...</td>\n",
       "      <td>A marriage license and a marriage certificate ...</td>\n",
       "      <td>134</td>\n",
       "      <td>236</td>\n",
       "      <td>B</td>\n",
       "    </tr>\n",
       "    <tr>\n",
       "      <th>2</th>\n",
       "      <td>3</td>\n",
       "      <td>How can I get both of them as quick as possibl...</td>\n",
       "      <td>13</td>\n",
       "      <td>If you want to get both a marriage license and...</td>\n",
       "      <td>In California, here are the general steps to o...</td>\n",
       "      <td>262</td>\n",
       "      <td>301</td>\n",
       "      <td>B</td>\n",
       "    </tr>\n",
       "    <tr>\n",
       "      <th>3</th>\n",
       "      <td>4</td>\n",
       "      <td>What is the minimal time to get them? 1 day or...</td>\n",
       "      <td>15</td>\n",
       "      <td>The minimal time to get a marriage license and...</td>\n",
       "      <td>The marriage license in California is issued i...</td>\n",
       "      <td>208</td>\n",
       "      <td>151</td>\n",
       "      <td>B</td>\n",
       "    </tr>\n",
       "    <tr>\n",
       "      <th>4</th>\n",
       "      <td>5</td>\n",
       "      <td>explain function calling. how would you call a...</td>\n",
       "      <td>11</td>\n",
       "      <td>Function calling is the process of invoking or...</td>\n",
       "      <td>Function calling is the process of invoking a ...</td>\n",
       "      <td>199</td>\n",
       "      <td>422</td>\n",
       "      <td>N</td>\n",
       "    </tr>\n",
       "    <tr>\n",
       "      <th>...</th>\n",
       "      <td>...</td>\n",
       "      <td>...</td>\n",
       "      <td>...</td>\n",
       "      <td>...</td>\n",
       "      <td>...</td>\n",
       "      <td>...</td>\n",
       "      <td>...</td>\n",
       "      <td>...</td>\n",
       "    </tr>\n",
       "    <tr>\n",
       "      <th>70153</th>\n",
       "      <td>70907</td>\n",
       "      <td>are deterrents necessary in an ideal society?</td>\n",
       "      <td>8</td>\n",
       "      <td>In an ideal society, deterrents like weapons m...</td>\n",
       "      <td>Deterrents are necessary in order to protect p...</td>\n",
       "      <td>342</td>\n",
       "      <td>54</td>\n",
       "      <td>A</td>\n",
       "    </tr>\n",
       "    <tr>\n",
       "      <th>70154</th>\n",
       "      <td>70908</td>\n",
       "      <td>how realistic is it for today's society to avo...</td>\n",
       "      <td>16</td>\n",
       "      <td>It is very difficult for today's societies to ...</td>\n",
       "      <td>In today's society, it is not realistic to avo...</td>\n",
       "      <td>429</td>\n",
       "      <td>71</td>\n",
       "      <td>A</td>\n",
       "    </tr>\n",
       "    <tr>\n",
       "      <th>70155</th>\n",
       "      <td>70909</td>\n",
       "      <td>can you explain concisely why it is not feasib...</td>\n",
       "      <td>18</td>\n",
       "      <td>There are a few key reasons why stopping the u...</td>\n",
       "      <td>It is not feasible for us to stop using weapon...</td>\n",
       "      <td>356</td>\n",
       "      <td>68</td>\n",
       "      <td>A</td>\n",
       "    </tr>\n",
       "    <tr>\n",
       "      <th>70156</th>\n",
       "      <td>70910</td>\n",
       "      <td>If a bait contains 0,0025% bromadiolon then ho...</td>\n",
       "      <td>22</td>\n",
       "      <td>Bromadiolone is a rodenticide which is most of...</td>\n",
       "      <td>As an AI language model, I do not promote or c...</td>\n",
       "      <td>84</td>\n",
       "      <td>190</td>\n",
       "      <td>B</td>\n",
       "    </tr>\n",
       "    <tr>\n",
       "      <th>70157</th>\n",
       "      <td>70911</td>\n",
       "      <td>three kids eat three apples in three days, how...</td>\n",
       "      <td>20</td>\n",
       "      <td>27 apples</td>\n",
       "      <td>If three kids eat three apples in three days, ...</td>\n",
       "      <td>2</td>\n",
       "      <td>129</td>\n",
       "      <td>A</td>\n",
       "    </tr>\n",
       "  </tbody>\n",
       "</table>\n",
       "<p>70158 rows × 8 columns</p>\n",
       "</div>"
      ],
      "text/plain": [
       "       Unnamed: 0                                            prompts  \\\n",
       "0               0  Is it morally right to try to have a certain p...   \n",
       "1               2  What is the difference between marriage licens...   \n",
       "2               3  How can I get both of them as quick as possibl...   \n",
       "3               4  What is the minimal time to get them? 1 day or...   \n",
       "4               5  explain function calling. how would you call a...   \n",
       "...           ...                                                ...   \n",
       "70153       70907      are deterrents necessary in an ideal society?   \n",
       "70154       70908  how realistic is it for today's society to avo...   \n",
       "70155       70909  can you explain concisely why it is not feasib...   \n",
       "70156       70910  If a bait contains 0,0025% bromadiolon then ho...   \n",
       "70157       70911  three kids eat three apples in three days, how...   \n",
       "\n",
       "       prompt_lens                                           answer_a  \\\n",
       "0               17  The question of whether it is morally right to...   \n",
       "1               11  A marriage license is a legal document that al...   \n",
       "2               13  If you want to get both a marriage license and...   \n",
       "3               15  The minimal time to get a marriage license and...   \n",
       "4               11  Function calling is the process of invoking or...   \n",
       "...            ...                                                ...   \n",
       "70153            8  In an ideal society, deterrents like weapons m...   \n",
       "70154           16  It is very difficult for today's societies to ...   \n",
       "70155           18  There are a few key reasons why stopping the u...   \n",
       "70156           22  Bromadiolone is a rodenticide which is most of...   \n",
       "70157           20                                          27 apples   \n",
       "\n",
       "                                                answer_b  answer_a_lens  \\\n",
       "0      As an AI, I don't have personal beliefs or opi...            527   \n",
       "1      A marriage license and a marriage certificate ...            134   \n",
       "2      In California, here are the general steps to o...            262   \n",
       "3      The marriage license in California is issued i...            208   \n",
       "4      Function calling is the process of invoking a ...            199   \n",
       "...                                                  ...            ...   \n",
       "70153  Deterrents are necessary in order to protect p...            342   \n",
       "70154  In today's society, it is not realistic to avo...            429   \n",
       "70155  It is not feasible for us to stop using weapon...            356   \n",
       "70156  As an AI language model, I do not promote or c...             84   \n",
       "70157  If three kids eat three apples in three days, ...              2   \n",
       "\n",
       "       answer_b_lens winner  \n",
       "0                136      A  \n",
       "1                236      B  \n",
       "2                301      B  \n",
       "3                151      B  \n",
       "4                422      N  \n",
       "...              ...    ...  \n",
       "70153             54      A  \n",
       "70154             71      A  \n",
       "70155             68      A  \n",
       "70156            190      B  \n",
       "70157            129      A  \n",
       "\n",
       "[70158 rows x 8 columns]"
      ]
     },
     "execution_count": 31,
     "metadata": {},
     "output_type": "execute_result"
    }
   ],
   "source": [
    "df_n"
   ]
  },
  {
   "cell_type": "markdown",
   "id": "e754554f-3291-46a0-a7a2-4566aebfe1d9",
   "metadata": {},
   "source": [
    "## Preparing Data for Training"
   ]
  },
  {
   "cell_type": "markdown",
   "id": "0d53932f-1591-4c86-b837-baf55d52d87c",
   "metadata": {},
   "source": [
    "### Doc2Vec training data"
   ]
  },
  {
   "cell_type": "code",
   "execution_count": 32,
   "id": "7ec07c59-2d6a-48b8-9e35-2c0b9844025a",
   "metadata": {},
   "outputs": [
    {
     "name": "stderr",
     "output_type": "stream",
     "text": [
      "70158it [00:01, 58304.43it/s]\n"
     ]
    }
   ],
   "source": [
    "doc_lines = []\n",
    "df_n.iloc[1][\"prompts\"] + \" \"\n",
    "for row in tqdm.tqdm(df_n.iterrows()):\n",
    "    prompt = str(row[1][\"prompts\"])\n",
    "    winner = str(row[1][\"winner\"])\n",
    "    answer_a = str(row[1][\"answer_a\"])\n",
    "    answer_b = str(row[1][\"answer_b\"])\n",
    "    if winner == \"A\":\n",
    "        doc_lines.append(prompt + \" \" + answer_a)\n",
    "    if winner == \"B\":\n",
    "        doc_lines.append(prompt + \" \" + answer_b)\n",
    "    if winner == \"N\":\n",
    "        doc_lines.append(prompt + \" \" + answer_a)\n",
    "        doc_lines.append(prompt + \" \" + answer_b)"
   ]
  },
  {
   "cell_type": "code",
   "execution_count": 39,
   "id": "821e308d-e5d4-4b1f-8163-0216c1af7bf4",
   "metadata": {},
   "outputs": [],
   "source": [
    "cleaned_doc_lines = []\n",
    "for line in tqdm.tqdm(doc_lines):\n",
    "    cleaned_line = gensim.utils.simple_preprocess(line)\n",
    "    cleaned_doc_lines.append(cleaned_line)\n",
    "\n",
    "documents = [gensim.models.doc2vec.TaggedDocument(doc, [i]) for i, doc in enumerate(cleaned_doc_lines)]"
   ]
  },
  {
   "cell_type": "markdown",
   "id": "d21c821e-1348-475b-836d-9fe87e073087",
   "metadata": {},
   "source": [
    "## Models"
   ]
  },
  {
   "cell_type": "markdown",
   "id": "1f53eace-81a5-487f-94cd-a1c0ae23a9f1",
   "metadata": {},
   "source": [
    "### Doc2Vec"
   ]
  },
  {
   "cell_type": "code",
   "execution_count": 103,
   "id": "26693a6c-0346-4ed6-ae47-9b1827ecb2a3",
   "metadata": {
    "scrolled": true
   },
   "outputs": [
    {
     "name": "stderr",
     "output_type": "stream",
     "text": [
      "2024-06-15 21:52:26,605 : INFO : Doc2Vec lifecycle event {'params': 'Doc2Vec<dm/m,d250,n5,w5,mc5,s0.001,t3>', 'datetime': '2024-06-15T21:52:26.605227', 'gensim': '4.3.2', 'python': '3.12.3 (v3.12.3:f6650f9ad7, Apr  9 2024, 08:18:47) [Clang 13.0.0 (clang-1300.0.29.30)]', 'platform': 'macOS-14.4.1-arm64-arm-64bit', 'event': 'created'}\n",
      "2024-06-15 21:52:26,606 : INFO : collecting all words and their counts\n",
      "2024-06-15 21:52:26,607 : INFO : PROGRESS: at example #0, processed 0 words (0 words/s), 0 word types, 0 tags\n",
      "2024-06-15 21:52:26,878 : INFO : PROGRESS: at example #10000, processed 2099408 words (7765415 words/s), 56770 word types, 0 tags\n",
      "2024-06-15 21:52:27,100 : INFO : PROGRESS: at example #20000, processed 4135749 words (9202690 words/s), 84468 word types, 0 tags\n",
      "2024-06-15 21:52:27,323 : INFO : PROGRESS: at example #30000, processed 6225114 words (9380507 words/s), 106455 word types, 0 tags\n",
      "2024-06-15 21:52:27,544 : INFO : PROGRESS: at example #40000, processed 8323542 words (9516239 words/s), 126091 word types, 0 tags\n",
      "2024-06-15 21:52:27,763 : INFO : PROGRESS: at example #50000, processed 10341723 words (9235429 words/s), 142932 word types, 0 tags\n",
      "2024-06-15 21:52:27,988 : INFO : PROGRESS: at example #60000, processed 12407157 words (9176809 words/s), 159199 word types, 0 tags\n",
      "2024-06-15 21:52:28,241 : INFO : PROGRESS: at example #70000, processed 14491813 words (8266313 words/s), 174212 word types, 0 tags\n",
      "2024-06-15 21:52:28,606 : INFO : PROGRESS: at example #80000, processed 16557923 words (5663385 words/s), 190049 word types, 0 tags\n",
      "2024-06-15 21:52:28,846 : INFO : PROGRESS: at example #90000, processed 18656318 words (8784207 words/s), 203098 word types, 0 tags\n",
      "2024-06-15 21:52:28,880 : INFO : collected 205052 word types and 91435 unique tags from a corpus of 91435 examples and 18966527 words\n",
      "2024-06-15 21:52:28,881 : INFO : Creating a fresh vocabulary\n",
      "2024-06-15 21:52:28,994 : INFO : Doc2Vec lifecycle event {'msg': 'effective_min_count=5 retains 69260 unique words (33.78% of original 205052, drops 135792)', 'datetime': '2024-06-15T21:52:28.994198', 'gensim': '4.3.2', 'python': '3.12.3 (v3.12.3:f6650f9ad7, Apr  9 2024, 08:18:47) [Clang 13.0.0 (clang-1300.0.29.30)]', 'platform': 'macOS-14.4.1-arm64-arm-64bit', 'event': 'prepare_vocab'}\n",
      "2024-06-15 21:52:28,994 : INFO : Doc2Vec lifecycle event {'msg': 'effective_min_count=5 leaves 18734499 word corpus (98.78% of original 18966527, drops 232028)', 'datetime': '2024-06-15T21:52:28.994705', 'gensim': '4.3.2', 'python': '3.12.3 (v3.12.3:f6650f9ad7, Apr  9 2024, 08:18:47) [Clang 13.0.0 (clang-1300.0.29.30)]', 'platform': 'macOS-14.4.1-arm64-arm-64bit', 'event': 'prepare_vocab'}\n",
      "2024-06-15 21:52:29,131 : INFO : deleting the raw counts dictionary of 205052 items\n",
      "2024-06-15 21:52:29,133 : INFO : sample=0.001 downsamples 26 most-common words\n",
      "2024-06-15 21:52:29,134 : INFO : Doc2Vec lifecycle event {'msg': 'downsampling leaves estimated 15040381.748055505 word corpus (80.3%% of prior 18734499)', 'datetime': '2024-06-15T21:52:29.134303', 'gensim': '4.3.2', 'python': '3.12.3 (v3.12.3:f6650f9ad7, Apr  9 2024, 08:18:47) [Clang 13.0.0 (clang-1300.0.29.30)]', 'platform': 'macOS-14.4.1-arm64-arm-64bit', 'event': 'prepare_vocab'}\n",
      "2024-06-15 21:52:29,368 : INFO : estimated required memory for 69260 words and 250 dimensions: 282872000 bytes\n",
      "2024-06-15 21:52:29,368 : INFO : resetting layer weights\n"
     ]
    }
   ],
   "source": [
    "d2v_v1 = Doc2Vec(vector_size=250, min_count=5, epochs=10)\n",
    "d2v_v1.build_vocab(documents)"
   ]
  },
  {
   "cell_type": "code",
   "execution_count": 104,
   "id": "50e9b72e-55da-4ac4-a480-e99f268d532b",
   "metadata": {
    "scrolled": true
   },
   "outputs": [
    {
     "name": "stderr",
     "output_type": "stream",
     "text": [
      "2024-06-15 21:52:29,509 : INFO : Doc2Vec lifecycle event {'msg': 'training model with 3 workers on 69260 vocabulary and 250 features, using sg=0 hs=0 sample=0.001 negative=5 window=5 shrink_windows=True', 'datetime': '2024-06-15T21:52:29.509474', 'gensim': '4.3.2', 'python': '3.12.3 (v3.12.3:f6650f9ad7, Apr  9 2024, 08:18:47) [Clang 13.0.0 (clang-1300.0.29.30)]', 'platform': 'macOS-14.4.1-arm64-arm-64bit', 'event': 'train'}\n",
      "2024-06-15 21:52:30,516 : INFO : EPOCH 0 - PROGRESS: at 7.28% examples, 1103906 words/s, in_qsize 6, out_qsize 0\n",
      "2024-06-15 21:52:31,516 : INFO : EPOCH 0 - PROGRESS: at 14.98% examples, 1130493 words/s, in_qsize 6, out_qsize 0\n",
      "2024-06-15 21:52:32,521 : INFO : EPOCH 0 - PROGRESS: at 22.85% examples, 1143943 words/s, in_qsize 5, out_qsize 0\n",
      "2024-06-15 21:52:33,525 : INFO : EPOCH 0 - PROGRESS: at 30.55% examples, 1151864 words/s, in_qsize 5, out_qsize 0\n",
      "2024-06-15 21:52:34,531 : INFO : EPOCH 0 - PROGRESS: at 38.27% examples, 1157918 words/s, in_qsize 5, out_qsize 0\n",
      "2024-06-15 21:52:35,531 : INFO : EPOCH 0 - PROGRESS: at 46.12% examples, 1162720 words/s, in_qsize 5, out_qsize 0\n",
      "2024-06-15 21:52:36,532 : INFO : EPOCH 0 - PROGRESS: at 54.34% examples, 1167830 words/s, in_qsize 5, out_qsize 0\n",
      "2024-06-15 21:52:37,536 : INFO : EPOCH 0 - PROGRESS: at 62.13% examples, 1169449 words/s, in_qsize 5, out_qsize 0\n",
      "2024-06-15 21:52:38,541 : INFO : EPOCH 0 - PROGRESS: at 69.87% examples, 1168617 words/s, in_qsize 6, out_qsize 0\n",
      "2024-06-15 21:52:39,545 : INFO : EPOCH 0 - PROGRESS: at 77.65% examples, 1168374 words/s, in_qsize 5, out_qsize 0\n",
      "2024-06-15 21:52:40,548 : INFO : EPOCH 0 - PROGRESS: at 85.48% examples, 1168434 words/s, in_qsize 6, out_qsize 0\n",
      "2024-06-15 21:52:41,550 : INFO : EPOCH 0 - PROGRESS: at 92.97% examples, 1165781 words/s, in_qsize 5, out_qsize 0\n",
      "2024-06-15 21:52:42,479 : INFO : EPOCH 0: training on 18966527 raw words (15129449 effective words) took 13.0s, 1166719 effective words/s\n",
      "2024-06-15 21:52:43,483 : INFO : EPOCH 1 - PROGRESS: at 7.85% examples, 1201154 words/s, in_qsize 5, out_qsize 0\n",
      "2024-06-15 21:52:44,485 : INFO : EPOCH 1 - PROGRESS: at 15.73% examples, 1185806 words/s, in_qsize 5, out_qsize 0\n",
      "2024-06-15 21:52:45,500 : INFO : EPOCH 1 - PROGRESS: at 23.75% examples, 1186928 words/s, in_qsize 5, out_qsize 1\n",
      "2024-06-15 21:52:46,510 : INFO : EPOCH 1 - PROGRESS: at 31.63% examples, 1188191 words/s, in_qsize 6, out_qsize 0\n",
      "2024-06-15 21:52:47,517 : INFO : EPOCH 1 - PROGRESS: at 39.41% examples, 1188069 words/s, in_qsize 5, out_qsize 0\n",
      "2024-06-15 21:52:48,522 : INFO : EPOCH 1 - PROGRESS: at 47.25% examples, 1185853 words/s, in_qsize 5, out_qsize 0\n",
      "2024-06-15 21:52:49,534 : INFO : EPOCH 1 - PROGRESS: at 55.32% examples, 1183378 words/s, in_qsize 6, out_qsize 0\n",
      "2024-06-15 21:52:50,544 : INFO : EPOCH 1 - PROGRESS: at 63.05% examples, 1180469 words/s, in_qsize 5, out_qsize 0\n",
      "2024-06-15 21:52:51,548 : INFO : EPOCH 1 - PROGRESS: at 69.78% examples, 1161937 words/s, in_qsize 6, out_qsize 0\n",
      "2024-06-15 21:52:52,552 : INFO : EPOCH 1 - PROGRESS: at 77.51% examples, 1161728 words/s, in_qsize 5, out_qsize 0\n",
      "2024-06-15 21:52:53,565 : INFO : EPOCH 1 - PROGRESS: at 85.42% examples, 1162765 words/s, in_qsize 5, out_qsize 0\n",
      "2024-06-15 21:52:54,566 : INFO : EPOCH 1 - PROGRESS: at 93.02% examples, 1162079 words/s, in_qsize 5, out_qsize 0\n",
      "2024-06-15 21:52:55,490 : INFO : EPOCH 1: training on 18966527 raw words (15131504 effective words) took 13.0s, 1163111 effective words/s\n",
      "2024-06-15 21:52:56,498 : INFO : EPOCH 2 - PROGRESS: at 7.73% examples, 1172170 words/s, in_qsize 6, out_qsize 0\n",
      "2024-06-15 21:52:57,499 : INFO : EPOCH 2 - PROGRESS: at 15.61% examples, 1176733 words/s, in_qsize 6, out_qsize 0\n",
      "2024-06-15 21:52:58,510 : INFO : EPOCH 2 - PROGRESS: at 23.29% examples, 1164336 words/s, in_qsize 5, out_qsize 0\n",
      "2024-06-15 21:52:59,515 : INFO : EPOCH 2 - PROGRESS: at 30.95% examples, 1164703 words/s, in_qsize 6, out_qsize 0\n",
      "2024-06-15 21:53:00,520 : INFO : EPOCH 2 - PROGRESS: at 38.68% examples, 1168429 words/s, in_qsize 6, out_qsize 0\n",
      "2024-06-15 21:53:01,525 : INFO : EPOCH 2 - PROGRESS: at 46.43% examples, 1167973 words/s, in_qsize 5, out_qsize 0\n",
      "2024-06-15 21:53:02,530 : INFO : EPOCH 2 - PROGRESS: at 54.54% examples, 1169189 words/s, in_qsize 6, out_qsize 0\n",
      "2024-06-15 21:53:03,535 : INFO : EPOCH 2 - PROGRESS: at 62.29% examples, 1169750 words/s, in_qsize 5, out_qsize 0\n",
      "2024-06-15 21:53:04,541 : INFO : EPOCH 2 - PROGRESS: at 70.27% examples, 1172146 words/s, in_qsize 6, out_qsize 0\n",
      "2024-06-15 21:53:05,551 : INFO : EPOCH 2 - PROGRESS: at 78.20% examples, 1173248 words/s, in_qsize 5, out_qsize 0\n",
      "2024-06-15 21:53:06,559 : INFO : EPOCH 2 - PROGRESS: at 86.10% examples, 1173798 words/s, in_qsize 6, out_qsize 0\n",
      "2024-06-15 21:53:07,566 : INFO : EPOCH 2 - PROGRESS: at 93.97% examples, 1175359 words/s, in_qsize 6, out_qsize 0\n",
      "2024-06-15 21:53:08,353 : INFO : EPOCH 2: training on 18966527 raw words (15131242 effective words) took 12.9s, 1176504 effective words/s\n",
      "2024-06-15 21:53:09,356 : INFO : EPOCH 3 - PROGRESS: at 7.90% examples, 1209410 words/s, in_qsize 5, out_qsize 0\n",
      "2024-06-15 21:53:10,366 : INFO : EPOCH 3 - PROGRESS: at 16.07% examples, 1209582 words/s, in_qsize 6, out_qsize 0\n",
      "2024-06-15 21:53:11,371 : INFO : EPOCH 3 - PROGRESS: at 24.02% examples, 1203988 words/s, in_qsize 6, out_qsize 0\n",
      "2024-06-15 21:53:12,373 : INFO : EPOCH 3 - PROGRESS: at 32.06% examples, 1207514 words/s, in_qsize 6, out_qsize 0\n",
      "2024-06-15 21:53:13,374 : INFO : EPOCH 3 - PROGRESS: at 39.71% examples, 1203503 words/s, in_qsize 5, out_qsize 0\n",
      "2024-06-15 21:53:14,378 : INFO : EPOCH 3 - PROGRESS: at 47.74% examples, 1201464 words/s, in_qsize 6, out_qsize 0\n",
      "2024-06-15 21:53:15,393 : INFO : EPOCH 3 - PROGRESS: at 55.93% examples, 1199648 words/s, in_qsize 6, out_qsize 0\n",
      "2024-06-15 21:53:16,399 : INFO : EPOCH 3 - PROGRESS: at 63.81% examples, 1198274 words/s, in_qsize 6, out_qsize 0\n",
      "2024-06-15 21:53:17,412 : INFO : EPOCH 3 - PROGRESS: at 71.74% examples, 1197505 words/s, in_qsize 6, out_qsize 0\n",
      "2024-06-15 21:53:18,422 : INFO : EPOCH 3 - PROGRESS: at 79.77% examples, 1196460 words/s, in_qsize 4, out_qsize 2\n",
      "2024-06-15 21:53:19,423 : INFO : EPOCH 3 - PROGRESS: at 87.60% examples, 1195110 words/s, in_qsize 5, out_qsize 0\n",
      "2024-06-15 21:53:20,430 : INFO : EPOCH 3 - PROGRESS: at 95.43% examples, 1195040 words/s, in_qsize 5, out_qsize 0\n",
      "2024-06-15 21:53:21,014 : INFO : EPOCH 3: training on 18966527 raw words (15133733 effective words) took 12.7s, 1195566 effective words/s\n",
      "2024-06-15 21:53:22,020 : INFO : EPOCH 4 - PROGRESS: at 7.90% examples, 1204707 words/s, in_qsize 6, out_qsize 0\n",
      "2024-06-15 21:53:23,028 : INFO : EPOCH 4 - PROGRESS: at 16.07% examples, 1208595 words/s, in_qsize 6, out_qsize 0\n",
      "2024-06-15 21:53:24,029 : INFO : EPOCH 4 - PROGRESS: at 24.13% examples, 1209840 words/s, in_qsize 6, out_qsize 0\n",
      "2024-06-15 21:53:25,031 : INFO : EPOCH 4 - PROGRESS: at 32.02% examples, 1206241 words/s, in_qsize 5, out_qsize 0\n",
      "2024-06-15 21:53:26,036 : INFO : EPOCH 4 - PROGRESS: at 39.71% examples, 1202849 words/s, in_qsize 6, out_qsize 0\n",
      "2024-06-15 21:53:27,036 : INFO : EPOCH 4 - PROGRESS: at 47.74% examples, 1201872 words/s, in_qsize 6, out_qsize 0\n",
      "2024-06-15 21:53:28,052 : INFO : EPOCH 4 - PROGRESS: at 55.93% examples, 1199806 words/s, in_qsize 5, out_qsize 0\n",
      "2024-06-15 21:53:29,065 : INFO : EPOCH 4 - PROGRESS: at 63.81% examples, 1197309 words/s, in_qsize 6, out_qsize 0\n",
      "2024-06-15 21:53:30,070 : INFO : EPOCH 4 - PROGRESS: at 71.68% examples, 1196819 words/s, in_qsize 5, out_qsize 0\n",
      "2024-06-15 21:53:31,071 : INFO : EPOCH 4 - PROGRESS: at 79.62% examples, 1195543 words/s, in_qsize 6, out_qsize 0\n",
      "2024-06-15 21:53:32,078 : INFO : EPOCH 4 - PROGRESS: at 87.55% examples, 1194992 words/s, in_qsize 5, out_qsize 0\n",
      "2024-06-15 21:53:33,079 : INFO : EPOCH 4 - PROGRESS: at 95.34% examples, 1194827 words/s, in_qsize 6, out_qsize 0\n",
      "2024-06-15 21:53:33,689 : INFO : EPOCH 4: training on 18966527 raw words (15133578 effective words) took 12.7s, 1194062 effective words/s\n",
      "2024-06-15 21:53:34,692 : INFO : EPOCH 5 - PROGRESS: at 7.78% examples, 1188066 words/s, in_qsize 6, out_qsize 0\n",
      "2024-06-15 21:53:35,694 : INFO : EPOCH 5 - PROGRESS: at 15.77% examples, 1190719 words/s, in_qsize 6, out_qsize 0\n",
      "2024-06-15 21:53:36,705 : INFO : EPOCH 5 - PROGRESS: at 23.75% examples, 1189270 words/s, in_qsize 5, out_qsize 1\n",
      "2024-06-15 21:53:37,706 : INFO : EPOCH 5 - PROGRESS: at 31.52% examples, 1189056 words/s, in_qsize 6, out_qsize 0\n",
      "2024-06-15 21:53:38,708 : INFO : EPOCH 5 - PROGRESS: at 39.26% examples, 1187930 words/s, in_qsize 5, out_qsize 0\n",
      "2024-06-15 21:53:39,710 : INFO : EPOCH 5 - PROGRESS: at 46.97% examples, 1183966 words/s, in_qsize 6, out_qsize 0\n",
      "2024-06-15 21:53:40,721 : INFO : EPOCH 5 - PROGRESS: at 54.06% examples, 1160970 words/s, in_qsize 5, out_qsize 0\n",
      "2024-06-15 21:53:41,734 : INFO : EPOCH 5 - PROGRESS: at 61.81% examples, 1160202 words/s, in_qsize 5, out_qsize 0\n",
      "2024-06-15 21:53:42,748 : INFO : EPOCH 5 - PROGRESS: at 69.59% examples, 1159930 words/s, in_qsize 5, out_qsize 0\n",
      "2024-06-15 21:53:43,757 : INFO : EPOCH 5 - PROGRESS: at 77.41% examples, 1161108 words/s, in_qsize 5, out_qsize 0\n",
      "2024-06-15 21:53:44,760 : INFO : EPOCH 5 - PROGRESS: at 85.20% examples, 1161675 words/s, in_qsize 5, out_qsize 0\n",
      "2024-06-15 21:53:45,762 : INFO : EPOCH 5 - PROGRESS: at 92.87% examples, 1161592 words/s, in_qsize 6, out_qsize 0\n",
      "2024-06-15 21:53:46,719 : INFO : EPOCH 5: training on 18966527 raw words (15133084 effective words) took 13.0s, 1161607 effective words/s\n",
      "2024-06-15 21:53:47,725 : INFO : EPOCH 6 - PROGRESS: at 7.63% examples, 1158693 words/s, in_qsize 5, out_qsize 0\n",
      "2024-06-15 21:53:48,730 : INFO : EPOCH 6 - PROGRESS: at 15.43% examples, 1163300 words/s, in_qsize 5, out_qsize 0\n",
      "2024-06-15 21:53:49,733 : INFO : EPOCH 6 - PROGRESS: at 23.25% examples, 1163805 words/s, in_qsize 5, out_qsize 0\n",
      "2024-06-15 21:53:50,743 : INFO : EPOCH 6 - PROGRESS: at 30.91% examples, 1162977 words/s, in_qsize 5, out_qsize 0\n",
      "2024-06-15 21:53:51,754 : INFO : EPOCH 6 - PROGRESS: at 38.48% examples, 1160855 words/s, in_qsize 6, out_qsize 0\n",
      "2024-06-15 21:53:52,758 : INFO : EPOCH 6 - PROGRESS: at 46.18% examples, 1160594 words/s, in_qsize 6, out_qsize 0\n",
      "2024-06-15 21:53:53,759 : INFO : EPOCH 6 - PROGRESS: at 54.12% examples, 1160397 words/s, in_qsize 5, out_qsize 0\n",
      "2024-06-15 21:53:54,761 : INFO : EPOCH 6 - PROGRESS: at 61.91% examples, 1162297 words/s, in_qsize 6, out_qsize 0\n",
      "2024-06-15 21:53:55,765 : INFO : EPOCH 6 - PROGRESS: at 69.62% examples, 1162341 words/s, in_qsize 6, out_qsize 0\n",
      "2024-06-15 21:53:56,768 : INFO : EPOCH 6 - PROGRESS: at 77.41% examples, 1163065 words/s, in_qsize 6, out_qsize 0\n",
      "2024-06-15 21:53:57,769 : INFO : EPOCH 6 - PROGRESS: at 85.20% examples, 1163710 words/s, in_qsize 6, out_qsize 0\n",
      "2024-06-15 21:53:58,773 : INFO : EPOCH 6 - PROGRESS: at 92.70% examples, 1161333 words/s, in_qsize 5, out_qsize 0\n",
      "2024-06-15 21:53:59,772 : INFO : EPOCH 6: training on 18966527 raw words (15131397 effective words) took 13.1s, 1159401 effective words/s\n",
      "2024-06-15 21:54:00,782 : INFO : EPOCH 7 - PROGRESS: at 7.49% examples, 1130208 words/s, in_qsize 5, out_qsize 0\n",
      "2024-06-15 21:54:01,785 : INFO : EPOCH 7 - PROGRESS: at 15.03% examples, 1130043 words/s, in_qsize 6, out_qsize 0\n",
      "2024-06-15 21:54:02,795 : INFO : EPOCH 7 - PROGRESS: at 22.74% examples, 1134309 words/s, in_qsize 6, out_qsize 0\n",
      "2024-06-15 21:54:03,798 : INFO : EPOCH 7 - PROGRESS: at 30.30% examples, 1138833 words/s, in_qsize 6, out_qsize 0\n",
      "2024-06-15 21:54:04,803 : INFO : EPOCH 7 - PROGRESS: at 37.75% examples, 1139963 words/s, in_qsize 6, out_qsize 0\n",
      "2024-06-15 21:54:05,815 : INFO : EPOCH 7 - PROGRESS: at 45.34% examples, 1138966 words/s, in_qsize 6, out_qsize 0\n",
      "2024-06-15 21:54:06,816 : INFO : EPOCH 7 - PROGRESS: at 53.14% examples, 1140068 words/s, in_qsize 6, out_qsize 0\n",
      "2024-06-15 21:54:07,832 : INFO : EPOCH 7 - PROGRESS: at 60.81% examples, 1137630 words/s, in_qsize 6, out_qsize 0\n",
      "2024-06-15 21:54:08,845 : INFO : EPOCH 7 - PROGRESS: at 68.26% examples, 1137252 words/s, in_qsize 5, out_qsize 0\n",
      "2024-06-15 21:54:09,849 : INFO : EPOCH 7 - PROGRESS: at 75.90% examples, 1137189 words/s, in_qsize 6, out_qsize 0\n",
      "2024-06-15 21:54:10,853 : INFO : EPOCH 7 - PROGRESS: at 83.45% examples, 1136499 words/s, in_qsize 6, out_qsize 0\n",
      "2024-06-15 21:54:11,865 : INFO : EPOCH 7 - PROGRESS: at 90.92% examples, 1134327 words/s, in_qsize 6, out_qsize 0\n",
      "2024-06-15 21:54:12,866 : INFO : EPOCH 7 - PROGRESS: at 98.19% examples, 1134387 words/s, in_qsize 6, out_qsize 0\n",
      "2024-06-15 21:54:13,121 : INFO : EPOCH 7: training on 18966527 raw words (15133274 effective words) took 13.3s, 1133805 effective words/s\n",
      "2024-06-15 21:54:14,123 : INFO : EPOCH 8 - PROGRESS: at 7.43% examples, 1130663 words/s, in_qsize 6, out_qsize 0\n",
      "2024-06-15 21:54:15,128 : INFO : EPOCH 8 - PROGRESS: at 14.98% examples, 1129875 words/s, in_qsize 6, out_qsize 0\n",
      "2024-06-15 21:54:16,128 : INFO : EPOCH 8 - PROGRESS: at 22.53% examples, 1129767 words/s, in_qsize 5, out_qsize 0\n",
      "2024-06-15 21:54:17,128 : INFO : EPOCH 8 - PROGRESS: at 29.92% examples, 1130981 words/s, in_qsize 6, out_qsize 0\n",
      "2024-06-15 21:54:18,133 : INFO : EPOCH 8 - PROGRESS: at 37.27% examples, 1130402 words/s, in_qsize 6, out_qsize 0\n",
      "2024-06-15 21:54:19,142 : INFO : EPOCH 8 - PROGRESS: at 44.77% examples, 1128007 words/s, in_qsize 6, out_qsize 0\n",
      "2024-06-15 21:54:20,147 : INFO : EPOCH 8 - PROGRESS: at 52.39% examples, 1127345 words/s, in_qsize 6, out_qsize 0\n",
      "2024-06-15 21:54:21,156 : INFO : EPOCH 8 - PROGRESS: at 59.85% examples, 1123582 words/s, in_qsize 6, out_qsize 0\n",
      "2024-06-15 21:54:22,157 : INFO : EPOCH 8 - PROGRESS: at 66.23% examples, 1105594 words/s, in_qsize 5, out_qsize 0\n",
      "2024-06-15 21:54:23,169 : INFO : EPOCH 8 - PROGRESS: at 73.47% examples, 1104478 words/s, in_qsize 5, out_qsize 0\n",
      "2024-06-15 21:54:24,179 : INFO : EPOCH 8 - PROGRESS: at 80.93% examples, 1105431 words/s, in_qsize 5, out_qsize 0\n",
      "2024-06-15 21:54:25,180 : INFO : EPOCH 8 - PROGRESS: at 88.40% examples, 1105907 words/s, in_qsize 6, out_qsize 0\n",
      "2024-06-15 21:54:26,187 : INFO : EPOCH 8 - PROGRESS: at 95.64% examples, 1106746 words/s, in_qsize 6, out_qsize 0\n",
      "2024-06-15 21:54:26,789 : INFO : EPOCH 8: training on 18966527 raw words (15131599 effective words) took 13.7s, 1107168 effective words/s\n",
      "2024-06-15 21:54:27,796 : INFO : EPOCH 9 - PROGRESS: at 7.43% examples, 1126165 words/s, in_qsize 6, out_qsize 0\n",
      "2024-06-15 21:54:28,801 : INFO : EPOCH 9 - PROGRESS: at 14.98% examples, 1127790 words/s, in_qsize 5, out_qsize 0\n",
      "2024-06-15 21:54:29,801 : INFO : EPOCH 9 - PROGRESS: at 22.53% examples, 1128014 words/s, in_qsize 6, out_qsize 0\n",
      "2024-06-15 21:54:30,811 : INFO : EPOCH 9 - PROGRESS: at 29.82% examples, 1122938 words/s, in_qsize 5, out_qsize 0\n",
      "2024-06-15 21:54:31,815 : INFO : EPOCH 9 - PROGRESS: at 37.07% examples, 1121289 words/s, in_qsize 5, out_qsize 0\n",
      "2024-06-15 21:54:32,821 : INFO : EPOCH 9 - PROGRESS: at 44.56% examples, 1120620 words/s, in_qsize 6, out_qsize 0\n",
      "2024-06-15 21:54:33,823 : INFO : EPOCH 9 - PROGRESS: at 52.12% examples, 1120581 words/s, in_qsize 5, out_qsize 0\n",
      "2024-06-15 21:54:34,838 : INFO : EPOCH 9 - PROGRESS: at 59.73% examples, 1118787 words/s, in_qsize 6, out_qsize 0\n",
      "2024-06-15 21:54:35,845 : INFO : EPOCH 9 - PROGRESS: at 67.07% examples, 1118722 words/s, in_qsize 5, out_qsize 0\n",
      "2024-06-15 21:54:36,849 : INFO : EPOCH 9 - PROGRESS: at 74.52% examples, 1118809 words/s, in_qsize 5, out_qsize 0\n",
      "2024-06-15 21:54:37,851 : INFO : EPOCH 9 - PROGRESS: at 80.74% examples, 1102336 words/s, in_qsize 5, out_qsize 0\n",
      "2024-06-15 21:54:38,862 : INFO : EPOCH 9 - PROGRESS: at 88.12% examples, 1101579 words/s, in_qsize 5, out_qsize 1\n",
      "2024-06-15 21:54:39,865 : INFO : EPOCH 9 - PROGRESS: at 95.30% examples, 1101788 words/s, in_qsize 5, out_qsize 0\n",
      "2024-06-15 21:54:40,524 : INFO : EPOCH 9: training on 18966527 raw words (15131611 effective words) took 13.7s, 1101841 effective words/s\n",
      "2024-06-15 21:54:40,525 : INFO : Doc2Vec lifecycle event {'msg': 'training on 189665270 raw words (151320471 effective words) took 131.0s, 1155003 effective words/s', 'datetime': '2024-06-15T21:54:40.525319', 'gensim': '4.3.2', 'python': '3.12.3 (v3.12.3:f6650f9ad7, Apr  9 2024, 08:18:47) [Clang 13.0.0 (clang-1300.0.29.30)]', 'platform': 'macOS-14.4.1-arm64-arm-64bit', 'event': 'train'}\n"
     ]
    }
   ],
   "source": [
    "d2v_v1.train(documents , total_examples=d2v_v1.corpus_count , epochs=d2v_v1.epochs)"
   ]
  },
  {
   "cell_type": "code",
   "execution_count": 106,
   "id": "27019177-3d73-4311-bcaf-f81f8fea3197",
   "metadata": {
    "scrolled": true
   },
   "outputs": [
    {
     "name": "stderr",
     "output_type": "stream",
     "text": [
      "2024-06-15 22:00:27,013 : INFO : Doc2Vec lifecycle event {'fname_or_handle': 'lmsys-chatbot-arena/aux_files/doc2vec_5_min_count_10_epochs_250_vector_size.d2v', 'separately': 'None', 'sep_limit': 10485760, 'ignore': frozenset(), 'datetime': '2024-06-15T22:00:27.013272', 'gensim': '4.3.2', 'python': '3.12.3 (v3.12.3:f6650f9ad7, Apr  9 2024, 08:18:47) [Clang 13.0.0 (clang-1300.0.29.30)]', 'platform': 'macOS-14.4.1-arm64-arm-64bit', 'event': 'saving'}\n",
      "2024-06-15 22:00:27,017 : INFO : storing np array 'vectors' to lmsys-chatbot-arena/aux_files/doc2vec_5_min_count_10_epochs_250_vector_size.d2v.dv.vectors.npy\n",
      "2024-06-15 22:00:27,120 : INFO : storing np array 'vectors' to lmsys-chatbot-arena/aux_files/doc2vec_5_min_count_10_epochs_250_vector_size.d2v.wv.vectors.npy\n",
      "2024-06-15 22:00:27,174 : INFO : storing np array 'syn1neg' to lmsys-chatbot-arena/aux_files/doc2vec_5_min_count_10_epochs_250_vector_size.d2v.syn1neg.npy\n",
      "2024-06-15 22:00:27,266 : INFO : not storing attribute cum_table\n",
      "2024-06-15 22:00:27,389 : INFO : saved lmsys-chatbot-arena/aux_files/doc2vec_5_min_count_10_epochs_250_vector_size.d2v\n"
     ]
    }
   ],
   "source": [
    "d2v_v1.save(\"lmsys-chatbot-arena/aux_files/doc2vec_5_min_count_10_epochs_250_vector_size.d2v\")"
   ]
  },
  {
   "cell_type": "code",
   "execution_count": 107,
   "id": "09746e0b-ed3e-4f23-9244-20d07d8c70d1",
   "metadata": {},
   "outputs": [],
   "source": [
    "z = d2v.infer_vector([\"test\" , \"the\"])"
   ]
  }
 ],
 "metadata": {
  "kernelspec": {
   "display_name": "Python 3 (ipykernel)",
   "language": "python",
   "name": "python3"
  },
  "language_info": {
   "codemirror_mode": {
    "name": "ipython",
    "version": 3
   },
   "file_extension": ".py",
   "mimetype": "text/x-python",
   "name": "python",
   "nbconvert_exporter": "python",
   "pygments_lexer": "ipython3",
   "version": "3.12.3"
  }
 },
 "nbformat": 4,
 "nbformat_minor": 5
}
